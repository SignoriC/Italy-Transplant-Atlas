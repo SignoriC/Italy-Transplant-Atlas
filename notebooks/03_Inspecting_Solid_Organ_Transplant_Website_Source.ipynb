{
 "cells": [
  {
   "cell_type": "code",
   "execution_count": 1,
   "metadata": {},
   "outputs": [],
   "source": [
    "# import required libraries and modules\n",
    "from selenium import webdriver\n",
    "from selenium.webdriver.common.by import By\n",
    "import pandas as pd"
   ]
  },
  {
   "cell_type": "code",
   "execution_count": 2,
   "metadata": {},
   "outputs": [],
   "source": [
    "# initialise the driver (and open up a browser window)\n",
    "# driver = webdriver.Chrome(path + '/chromedriver')\n",
    "driver = webdriver.Chrome()"
   ]
  },
  {
   "cell_type": "markdown",
   "metadata": {},
   "source": [
    "## 🔍 Inspecting the Source Website: Sistema Informativo Trapianti\n",
    "\n",
    "This section describes the structure and navigation logic of the **Sistema Informativo Trapianti** website and how we reach the tables from which we'll scrape transplant data.\n",
    "\n",
    "🔗 Access the website here: [Sistema Informativo Trapianti](https://trapianti.sanita.it/statistiche/trapianti_per_anno.aspx)\n",
    "\n",
    "The starting point is a summary table we'll call the **Year-Organ Transplant Matrix**, available at the homepage URL. This table displays **years in rows** and **transplanted organs in columns**.\n",
    "\n",
    "**Year-Organ Transplant Matrix**\n",
    "\n",
    "![Transplants per year](../images/Transplants_per_year_table.jpg)\n",
    "\n",
    "Clicking on a specific **year** loads the **Region-Organ Transplant Matrix** for that year. This table shows **regions in rows** and **organs in columns**.\n",
    "\n",
    "**Region-Organ Transplant Matrix (One Year)**\n",
    "\n",
    "![Transplants per Organ in one year](../images/Transplants_per_Organ_in_one_year_table.jpg)\n",
    "\n",
    "From there, selecting an **organ** brings you to the **Region-Specific Organ Transplant Matrix** for that year. The **rows are regions**, and the **columns show subtypes of transplants** (e.g., single kidney, double kidney, kidney-liver, etc.).\n",
    "\n",
    "**Region-Specific Organ Transplant Matrix**\n",
    "\n",
    "![Transplants per region of one organ in one year](../images/Tranplants_per_Region_of_one_organ_in_one_year.jpg)\n",
    "\n",
    "Finally, clicking the **Regione** button opens the most detailed view: the **Center-Specific Organ Transplant Matrix** for that year and organ. Here, each row represents a transplant center (or program), and columns detail the counts for each subtype.\n",
    "\n",
    "**Center-Specific Organ Transplant Matrix (Final Target)**\n",
    "\n",
    "![Transplants per Center in Italy of one organ in one year](../images/Tranplants_per_Center_in_Italy_of_one_organ_in_one_year.jpg)\n",
    "\n",
    "🎯 These final tables (one per year-organ pair) are the **actual data sources** we scrape."
   ]
  },
  {
   "cell_type": "markdown",
   "metadata": {},
   "source": [
    "## 🔍 Navigating with XPath: Dynamic Button Selection\n",
    "\n",
    "From inspecting the HTML structure of the website, we found that the following XPath pattern is especially useful for navigating through the interface: \"//button[normalize-space()='YYYY']\"\n",
    "\n",
    "This XPath targets buttons by their visible text — for example, a button labeled with a year like **2023**.\n",
    "To make this dynamic and reusable in code, we define two components:"
   ]
  },
  {
   "cell_type": "code",
   "execution_count": 3,
   "metadata": {},
   "outputs": [],
   "source": [
    "path_sx = \"//button[normalize-space()='\"\n",
    "path_dx = \"']\""
   ]
  },
  {
   "cell_type": "markdown",
   "metadata": {},
   "source": [
    "You can then construct full XPaths like so: "
   ]
  },
  {
   "cell_type": "code",
   "execution_count": 4,
   "metadata": {},
   "outputs": [],
   "source": [
    "year_xpath = path_sx + \"2023\" + path_dx"
   ]
  },
  {
   "cell_type": "markdown",
   "metadata": {},
   "source": [
    "🔗 This results in:"
   ]
  },
  {
   "cell_type": "code",
   "execution_count": 5,
   "metadata": {},
   "outputs": [
    {
     "data": {
      "text/plain": [
       "\"//button[normalize-space()='2023']\""
      ]
     },
     "execution_count": 5,
     "metadata": {},
     "output_type": "execute_result"
    }
   ],
   "source": [
    "year_xpath"
   ]
  },
  {
   "cell_type": "markdown",
   "metadata": {},
   "source": [
    "✅ This pattern allows for consistent and clean navigation through the site's buttons for years, organs, and other labeled elements (e.g. Regione)"
   ]
  },
  {
   "cell_type": "code",
   "execution_count": 6,
   "metadata": {},
   "outputs": [],
   "source": [
    "main_table_path = \"https://trapianti.sanita.it/statistiche/trapianti_per_anno.aspx\"\n",
    "# Step1: open up the main table web page Sistema Informativo Trapianti\n",
    "driver.get(main_table_path)"
   ]
  },
  {
   "cell_type": "code",
   "execution_count": 7,
   "metadata": {},
   "outputs": [],
   "source": [
    "# Step 2: go to the table of the year = '2024'\n",
    "year = '2024'\n",
    "driver.find_element(By.XPATH, path_sx + year + path_dx).click()"
   ]
  },
  {
   "cell_type": "code",
   "execution_count": 8,
   "metadata": {},
   "outputs": [],
   "source": [
    "# Step 3: go to the table of the organ = 'Rene'\n",
    "organ = 'Rene'\n",
    "driver.find_element(By.XPATH, path_sx + organ + path_dx).click()"
   ]
  },
  {
   "cell_type": "code",
   "execution_count": 9,
   "metadata": {},
   "outputs": [],
   "source": [
    "# Step 4: go to page of the all the centers in all Regions\n",
    "driver.find_element(By.XPATH, \"//button[normalize-space()='Regione']\").click()"
   ]
  },
  {
   "cell_type": "markdown",
   "metadata": {},
   "source": [
    "Now I want to extract the data in the table of my interest with all the number of patients that received a kidney transplantations in 2024 in each center in Lombardia."
   ]
  },
  {
   "cell_type": "code",
   "execution_count": 10,
   "metadata": {},
   "outputs": [
    {
     "data": {
      "text/plain": [
       "['Struttura trapianto',\n",
       " 'Rene',\n",
       " 'Rene doppio',\n",
       " 'Rene - fegato',\n",
       " 'Rene - pancreas',\n",
       " 'Rene doppio - fegato',\n",
       " 'Totale Trapianti']"
      ]
     },
     "execution_count": 10,
     "metadata": {},
     "output_type": "execute_result"
    }
   ],
   "source": [
    "# Step 5: take the list of headers from the table with transplants of that Organ in that year\n",
    "headers=driver.find_elements(By.TAG_NAME, \"th\")\n",
    "headers = [i.text for i in headers[1:]]\n",
    "\n",
    "headers"
   ]
  },
  {
   "cell_type": "code",
   "execution_count": 11,
   "metadata": {},
   "outputs": [],
   "source": [
    "# Step 6: estract data per each center from the table \n",
    "# with transplants of that Organ, in that Region, in that year \n",
    "rows_elements = driver.find_elements(By.XPATH, \"//tr\")\n",
    "data_rows = []\n",
    "for row in rows_elements[1:]: # skip table title/header\n",
    "    cells = row.find_elements(By.XPATH, \".//td\")\n",
    "    if not cells:\n",
    "        continue\n",
    "    row_data = [cell.text.strip() for cell in cells]\n",
    "    data_rows.append(row_data)                    "
   ]
  },
  {
   "cell_type": "code",
   "execution_count": 12,
   "metadata": {},
   "outputs": [
    {
     "data": {
      "text/plain": [
       "[[\"NO - AOU MAGGIORE DELLA CARITA' - NOVARA\", '37', '2', '0', '0', '0', '39'],\n",
       " ['TO - AOU Città della Salute, PO OIRM', '4', '0', '0', '0', '0', '4']]"
      ]
     },
     "execution_count": 12,
     "metadata": {},
     "output_type": "execute_result"
    }
   ],
   "source": [
    "data_rows[0:2]"
   ]
  },
  {
   "cell_type": "code",
   "execution_count": 13,
   "metadata": {},
   "outputs": [],
   "source": [
    "# Go back to the main table\n",
    "driver.find_element(By.XPATH, '//*[@id=\"primo_link\"]/a[2]').click()\n",
    "# Quit the driver\n",
    "driver.quit()"
   ]
  },
  {
   "cell_type": "markdown",
   "metadata": {},
   "source": [
    "Now I need to arrange all data in one DataFrame, using the headers of the table the data come from."
   ]
  },
  {
   "cell_type": "code",
   "execution_count": 14,
   "metadata": {},
   "outputs": [
    {
     "data": {
      "text/html": [
       "<div>\n",
       "<style scoped>\n",
       "    .dataframe tbody tr th:only-of-type {\n",
       "        vertical-align: middle;\n",
       "    }\n",
       "\n",
       "    .dataframe tbody tr th {\n",
       "        vertical-align: top;\n",
       "    }\n",
       "\n",
       "    .dataframe thead th {\n",
       "        text-align: right;\n",
       "    }\n",
       "</style>\n",
       "<table border=\"1\" class=\"dataframe\">\n",
       "  <thead>\n",
       "    <tr style=\"text-align: right;\">\n",
       "      <th></th>\n",
       "      <th>Struttura trapianto</th>\n",
       "      <th>Rene</th>\n",
       "      <th>Rene doppio</th>\n",
       "      <th>Rene - fegato</th>\n",
       "      <th>Rene - pancreas</th>\n",
       "      <th>Rene doppio - fegato</th>\n",
       "      <th>Totale Trapianti</th>\n",
       "    </tr>\n",
       "  </thead>\n",
       "  <tbody>\n",
       "    <tr>\n",
       "      <th>0</th>\n",
       "      <td>NO - AOU MAGGIORE DELLA CARITA' - NOVARA</td>\n",
       "      <td>37</td>\n",
       "      <td>2</td>\n",
       "      <td>0</td>\n",
       "      <td>0</td>\n",
       "      <td>0</td>\n",
       "      <td>39</td>\n",
       "    </tr>\n",
       "    <tr>\n",
       "      <th>1</th>\n",
       "      <td>TO - AOU Città della Salute, PO OIRM</td>\n",
       "      <td>4</td>\n",
       "      <td>0</td>\n",
       "      <td>0</td>\n",
       "      <td>0</td>\n",
       "      <td>0</td>\n",
       "      <td>4</td>\n",
       "    </tr>\n",
       "    <tr>\n",
       "      <th>2</th>\n",
       "      <td>TO - AOU Città della Salute, PO S.G.Battista</td>\n",
       "      <td>194</td>\n",
       "      <td>10</td>\n",
       "      <td>2</td>\n",
       "      <td>2</td>\n",
       "      <td>0</td>\n",
       "      <td>208</td>\n",
       "    </tr>\n",
       "    <tr>\n",
       "      <th>3</th>\n",
       "      <td>BG - OSPEDALE PAPA GIOVANNI XXIII - BERGAMO</td>\n",
       "      <td>44</td>\n",
       "      <td>7</td>\n",
       "      <td>5</td>\n",
       "      <td>0</td>\n",
       "      <td>0</td>\n",
       "      <td>56</td>\n",
       "    </tr>\n",
       "    <tr>\n",
       "      <th>4</th>\n",
       "      <td>BS - PRES. OSPEDAL. SPEDALI CIVILI BRESCIA</td>\n",
       "      <td>60</td>\n",
       "      <td>6</td>\n",
       "      <td>0</td>\n",
       "      <td>0</td>\n",
       "      <td>0</td>\n",
       "      <td>66</td>\n",
       "    </tr>\n",
       "  </tbody>\n",
       "</table>\n",
       "</div>"
      ],
      "text/plain": [
       "                            Struttura trapianto Rene Rene doppio  \\\n",
       "0      NO - AOU MAGGIORE DELLA CARITA' - NOVARA   37           2   \n",
       "1          TO - AOU Città della Salute, PO OIRM    4           0   \n",
       "2  TO - AOU Città della Salute, PO S.G.Battista  194          10   \n",
       "3   BG - OSPEDALE PAPA GIOVANNI XXIII - BERGAMO   44           7   \n",
       "4    BS - PRES. OSPEDAL. SPEDALI CIVILI BRESCIA   60           6   \n",
       "\n",
       "  Rene - fegato Rene - pancreas Rene doppio - fegato Totale Trapianti  \n",
       "0             0               0                    0               39  \n",
       "1             0               0                    0                4  \n",
       "2             2               2                    0              208  \n",
       "3             5               0                    0               56  \n",
       "4             0               0                    0               66  "
      ]
     },
     "execution_count": 14,
     "metadata": {},
     "output_type": "execute_result"
    }
   ],
   "source": [
    "# create the dataframe\n",
    "df = pd.DataFrame(data_rows, columns=headers)\n",
    "df.head()"
   ]
  },
  {
   "cell_type": "code",
   "execution_count": 15,
   "metadata": {},
   "outputs": [
    {
     "data": {
      "text/html": [
       "<div>\n",
       "<style scoped>\n",
       "    .dataframe tbody tr th:only-of-type {\n",
       "        vertical-align: middle;\n",
       "    }\n",
       "\n",
       "    .dataframe tbody tr th {\n",
       "        vertical-align: top;\n",
       "    }\n",
       "\n",
       "    .dataframe thead th {\n",
       "        text-align: right;\n",
       "    }\n",
       "</style>\n",
       "<table border=\"1\" class=\"dataframe\">\n",
       "  <thead>\n",
       "    <tr style=\"text-align: right;\">\n",
       "      <th></th>\n",
       "      <th>Struttura trapianto</th>\n",
       "      <th>Rene</th>\n",
       "      <th>Rene doppio</th>\n",
       "      <th>Rene - fegato</th>\n",
       "      <th>Rene - pancreas</th>\n",
       "      <th>Rene doppio - fegato</th>\n",
       "      <th>Totale Trapianti</th>\n",
       "    </tr>\n",
       "  </thead>\n",
       "  <tbody>\n",
       "    <tr>\n",
       "      <th>36</th>\n",
       "      <td>CT - A.O. UNIVERSITARIA DI CATANIA</td>\n",
       "      <td>26</td>\n",
       "      <td>1</td>\n",
       "      <td>0</td>\n",
       "      <td>0</td>\n",
       "      <td>0</td>\n",
       "      <td>27</td>\n",
       "    </tr>\n",
       "    <tr>\n",
       "      <th>37</th>\n",
       "      <td>PA - Is.Me.T.T.</td>\n",
       "      <td>80</td>\n",
       "      <td>0</td>\n",
       "      <td>5</td>\n",
       "      <td>2</td>\n",
       "      <td>0</td>\n",
       "      <td>87</td>\n",
       "    </tr>\n",
       "    <tr>\n",
       "      <th>38</th>\n",
       "      <td>PA - P.O. CIVICO E BENFRATELLI</td>\n",
       "      <td>39</td>\n",
       "      <td>0</td>\n",
       "      <td>0</td>\n",
       "      <td>0</td>\n",
       "      <td>0</td>\n",
       "      <td>39</td>\n",
       "    </tr>\n",
       "    <tr>\n",
       "      <th>39</th>\n",
       "      <td>CA - AZIENDA OSPEDALIERA G. BROTZU</td>\n",
       "      <td>36</td>\n",
       "      <td>0</td>\n",
       "      <td>0</td>\n",
       "      <td>0</td>\n",
       "      <td>0</td>\n",
       "      <td>36</td>\n",
       "    </tr>\n",
       "    <tr>\n",
       "      <th>40</th>\n",
       "      <td>Totale</td>\n",
       "      <td>1843</td>\n",
       "      <td>124</td>\n",
       "      <td>29</td>\n",
       "      <td>34</td>\n",
       "      <td>1</td>\n",
       "      <td>2031</td>\n",
       "    </tr>\n",
       "  </tbody>\n",
       "</table>\n",
       "</div>"
      ],
      "text/plain": [
       "                   Struttura trapianto  Rene Rene doppio Rene - fegato  \\\n",
       "36  CT - A.O. UNIVERSITARIA DI CATANIA    26           1             0   \n",
       "37                     PA - Is.Me.T.T.    80           0             5   \n",
       "38      PA - P.O. CIVICO E BENFRATELLI    39           0             0   \n",
       "39  CA - AZIENDA OSPEDALIERA G. BROTZU    36           0             0   \n",
       "40                              Totale  1843         124            29   \n",
       "\n",
       "   Rene - pancreas Rene doppio - fegato Totale Trapianti  \n",
       "36               0                    0               27  \n",
       "37               2                    0               87  \n",
       "38               0                    0               39  \n",
       "39               0                    0               36  \n",
       "40              34                    1             2031  "
      ]
     },
     "execution_count": 15,
     "metadata": {},
     "output_type": "execute_result"
    }
   ],
   "source": [
    "df.tail()"
   ]
  },
  {
   "cell_type": "markdown",
   "metadata": {},
   "source": [
    "I plan to improve the quality of the scraped DataFrame by removing the unnecessary `Totale trapianti` column and the final `Totale` row, which summarize data and are not needed for detailed analysis.\n",
    "\n",
    "These cleaning steps will be implemented in the next notebook, where I will also begin designing a strategy for scraping **all years and organs**. This approach will take into account important execution factors such as page load times, potential delays, and error handling to ensure robust and scalable data collection."
   ]
  }
 ],
 "metadata": {
  "kernelspec": {
   "display_name": "base",
   "language": "python",
   "name": "python3"
  },
  "language_info": {
   "codemirror_mode": {
    "name": "ipython",
    "version": 3
   },
   "file_extension": ".py",
   "mimetype": "text/x-python",
   "name": "python",
   "nbconvert_exporter": "python",
   "pygments_lexer": "ipython3",
   "version": "3.12.7"
  }
 },
 "nbformat": 4,
 "nbformat_minor": 2
}
