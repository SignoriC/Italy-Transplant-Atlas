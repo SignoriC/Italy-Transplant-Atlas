{
 "cells": [
  {
   "cell_type": "markdown",
   "id": "4d889f5b",
   "metadata": {},
   "source": [
    "## 📊 Load, Clean, and Reshape Transplant Data\n",
    "In this notebook, we begin the data processing phase of the project. After scraping and storing transplant data by organ and year in individual CSV files, our next steps are to load, clean, and consolidate these datasets into a unified format suitable for analysis and visualization.\n",
    "\n",
    "### 🔧 Goals:\n",
    "1. **Load** the CSV files saved for each year and organ.\n",
    "\n",
    "2. **Clean** the data:\n",
    "\n",
    "    - Remove total summary rows and columns (e.g., `Totale`, `Totale trapianti`).\n",
    "\n",
    "    - Strip whitespace and handle missing or inconsistent values.\n",
    "\n",
    "3. **Reshape** each DataFrame to a long format using `pd.melt()`:\n",
    "\n",
    "    - One row per transplant record.\n",
    "\n",
    "    - Columns: `Struttura trapianto`, `Città`, `Organo`, `Sottotipo`, `Numero`, `Anno`.\n",
    "\n",
    "4. **Enrich** the dataset:\n",
    "\n",
    "    - Extract city codes from hospital names and map to full city names (optional).\n",
    "\n",
    "    - Add the corresponding region (optional, if mapping available).\n",
    "\n",
    "5. **Combine** all yearly-organ files into a single long-format DataFrame.\n",
    "\n",
    "6. **Preview** the final dataset to ensure consistency before moving on to data exploration."
   ]
  },
  {
   "cell_type": "code",
   "execution_count": 1,
   "id": "46a008bd",
   "metadata": {},
   "outputs": [],
   "source": [
    "import pandas as pd\n",
    "import os\n",
    "#from glob import glob"
   ]
  },
  {
   "cell_type": "code",
   "execution_count": 2,
   "id": "59c9118e",
   "metadata": {},
   "outputs": [],
   "source": [
    "# List all CSV files in all subfolders of ../data_raw/\n",
    "#csv_files = glob(\"../data_raw/**/*.csv\", recursive=True)\n",
    "\n",
    "#for file in csv_files:\n",
    "    #print(file)"
   ]
  },
  {
   "cell_type": "code",
   "execution_count": 3,
   "id": "31f92426",
   "metadata": {},
   "outputs": [],
   "source": [
    "# --- CONFIGURATION ---\n",
    "data_path = \"../data_raw/\"\n",
    "organs = ['Rene', 'Fegato', 'Cuore', 'Polmone', 'Pancreas', 'Intestino']\n",
    "years = [str(y) for y in range(2010, 2025)]  # Update if needed\n",
    "all_data = []"
   ]
  },
  {
   "cell_type": "code",
   "execution_count": 4,
   "id": "e78daa0e",
   "metadata": {},
   "outputs": [],
   "source": [
    "# --- HELPER FUNCTION ---\n",
    "def load_and_clean_csv(file_path, organ, year):\n",
    "    df = pd.read_csv(file_path)\n",
    "\n",
    "    # Drop summary column if present\n",
    "    if 'Totale Trapianti' in df.columns:\n",
    "        df.drop(columns='Totale Trapianti', inplace=True)\n",
    "\n",
    "    # Drop summary row if last row contains 'totale' or 'totali'\n",
    "    if df.iloc[-1, 0].strip().lower() in ['totale', 'totali']:\n",
    "        df.drop(index=df.index[-1], inplace=True)\n",
    "\n",
    "    # Extract city short code (e.g. 'MI') before the dash\n",
    "    df['Città'] = df['Struttura trapianto'].str.split('-').str[0].str.strip()\n",
    "\n",
    "    # Reshape from wide to long\n",
    "    df_long = pd.melt(\n",
    "        df,\n",
    "        id_vars=['Struttura trapianto', 'Città'],\n",
    "        var_name='Sottotipo',\n",
    "        value_name='Numero'\n",
    "    )\n",
    "\n",
    "    # Add organ and year\n",
    "    df_long['Organo'] = organ\n",
    "    df_long['Anno'] = int(year)\n",
    "\n",
    "    # Reorder columns\n",
    "    return df_long[['Struttura trapianto', 'Città', 'Organo', 'Sottotipo', 'Numero', 'Anno']]"
   ]
  },
  {
   "cell_type": "code",
   "execution_count": 5,
   "id": "0d52a399",
   "metadata": {},
   "outputs": [
    {
     "name": "stdout",
     "output_type": "stream",
     "text": [
      "⚠️ Missing file: ../data_raw/2012\\2012_Intestino.csv\n",
      "⚠️ Missing file: ../data_raw/2013\\2013_Intestino.csv\n",
      "⚠️ Missing file: ../data_raw/2014\\2014_Intestino.csv\n",
      "⚠️ Missing file: ../data_raw/2017\\2017_Intestino.csv\n",
      "⚠️ Missing file: ../data_raw/2018\\2018_Intestino.csv\n",
      "⚠️ Missing file: ../data_raw/2020\\2020_Intestino.csv\n",
      "⚠️ Missing file: ../data_raw/2021\\2021_Intestino.csv\n"
     ]
    }
   ],
   "source": [
    "\n",
    "# --- MAIN LOOP ---\n",
    "for year in years:\n",
    "    for organ in organs:\n",
    "        file_path = os.path.join(data_path, year, f\"{year}_{organ}.csv\")\n",
    "        if os.path.exists(file_path):\n",
    "            try:\n",
    "                df_clean = load_and_clean_csv(file_path, organ, year)\n",
    "                all_data.append(df_clean)\n",
    "            except Exception as e:\n",
    "                print(f\"❌ Failed to process {file_path}: {e}\")\n",
    "        else:\n",
    "            print(f\"⚠️ Missing file: {file_path}\")"
   ]
  },
  {
   "cell_type": "markdown",
   "id": "99d05824",
   "metadata": {},
   "source": [
    "File are missing because no Intestine Transplants had been performed in 2012, 2013, 2014, 2017, 2018, 2020, 2021."
   ]
  },
  {
   "cell_type": "code",
   "execution_count": 6,
   "id": "7e50f01d",
   "metadata": {},
   "outputs": [],
   "source": [
    "# --- CONCATENATE ALL ---\n",
    "df_all = pd.concat(all_data, ignore_index=True)"
   ]
  },
  {
   "cell_type": "code",
   "execution_count": 7,
   "id": "0d37341c",
   "metadata": {},
   "outputs": [
    {
     "data": {
      "text/html": [
       "<div>\n",
       "<style scoped>\n",
       "    .dataframe tbody tr th:only-of-type {\n",
       "        vertical-align: middle;\n",
       "    }\n",
       "\n",
       "    .dataframe tbody tr th {\n",
       "        vertical-align: top;\n",
       "    }\n",
       "\n",
       "    .dataframe thead th {\n",
       "        text-align: right;\n",
       "    }\n",
       "</style>\n",
       "<table border=\"1\" class=\"dataframe\">\n",
       "  <thead>\n",
       "    <tr style=\"text-align: right;\">\n",
       "      <th></th>\n",
       "      <th>Struttura trapianto</th>\n",
       "      <th>Città</th>\n",
       "      <th>Organo</th>\n",
       "      <th>Sottotipo</th>\n",
       "      <th>Numero</th>\n",
       "      <th>Anno</th>\n",
       "    </tr>\n",
       "  </thead>\n",
       "  <tbody>\n",
       "    <tr>\n",
       "      <th>0</th>\n",
       "      <td>NO - AOU MAGGIORE DELLA CARITA' - NOVARA</td>\n",
       "      <td>NO</td>\n",
       "      <td>Rene</td>\n",
       "      <td>Rene</td>\n",
       "      <td>67</td>\n",
       "      <td>2010</td>\n",
       "    </tr>\n",
       "    <tr>\n",
       "      <th>1</th>\n",
       "      <td>TO - AOU Città della Salute, PO OIRM</td>\n",
       "      <td>TO</td>\n",
       "      <td>Rene</td>\n",
       "      <td>Rene</td>\n",
       "      <td>5</td>\n",
       "      <td>2010</td>\n",
       "    </tr>\n",
       "    <tr>\n",
       "      <th>2</th>\n",
       "      <td>TO - AOU Città della Salute, PO S.G.Battista</td>\n",
       "      <td>TO</td>\n",
       "      <td>Rene</td>\n",
       "      <td>Rene</td>\n",
       "      <td>109</td>\n",
       "      <td>2010</td>\n",
       "    </tr>\n",
       "    <tr>\n",
       "      <th>3</th>\n",
       "      <td>BG - OSPEDALE PAPA GIOVANNI XXIII - BERGAMO</td>\n",
       "      <td>BG</td>\n",
       "      <td>Rene</td>\n",
       "      <td>Rene</td>\n",
       "      <td>17</td>\n",
       "      <td>2010</td>\n",
       "    </tr>\n",
       "    <tr>\n",
       "      <th>4</th>\n",
       "      <td>BS - PRES. OSPEDAL. SPEDALI CIVILI BRESCIA</td>\n",
       "      <td>BS</td>\n",
       "      <td>Rene</td>\n",
       "      <td>Rene</td>\n",
       "      <td>47</td>\n",
       "      <td>2010</td>\n",
       "    </tr>\n",
       "  </tbody>\n",
       "</table>\n",
       "</div>"
      ],
      "text/plain": [
       "                            Struttura trapianto Città Organo Sottotipo  \\\n",
       "0      NO - AOU MAGGIORE DELLA CARITA' - NOVARA    NO   Rene      Rene   \n",
       "1          TO - AOU Città della Salute, PO OIRM    TO   Rene      Rene   \n",
       "2  TO - AOU Città della Salute, PO S.G.Battista    TO   Rene      Rene   \n",
       "3   BG - OSPEDALE PAPA GIOVANNI XXIII - BERGAMO    BG   Rene      Rene   \n",
       "4    BS - PRES. OSPEDAL. SPEDALI CIVILI BRESCIA    BS   Rene      Rene   \n",
       "\n",
       "   Numero  Anno  \n",
       "0      67  2010  \n",
       "1       5  2010  \n",
       "2     109  2010  \n",
       "3      17  2010  \n",
       "4      47  2010  "
      ]
     },
     "execution_count": 7,
     "metadata": {},
     "output_type": "execute_result"
    }
   ],
   "source": [
    "# --- Preview ---\n",
    "df_all.head()"
   ]
  },
  {
   "cell_type": "code",
   "execution_count": 8,
   "id": "c5a919c6",
   "metadata": {},
   "outputs": [],
   "source": [
    "# --- Save ---\n",
    "df_all.to_csv(\"../data_cleaned/transplants_italy_2010_2024_long.csv\", index=False)"
   ]
  },
  {
   "cell_type": "markdown",
   "id": "e86d732c",
   "metadata": {},
   "source": [
    "### 🧹 Filtering Out Inactive Transplant Centers\n",
    "\n",
    "In this section, I identify and remove transplant centers that have not performed any transplants in the last 10 years. This step focuses the analysis on currently active centers and reduces noise from outdated or discontinued programs.\n",
    "\n",
    "To assess the impact of this filtering, I compare the number of transplant centers and the total number of transplants **before and after** the cleaning step.\n",
    "\n",
    "The filtering process includes:\n",
    "\n",
    "- Defining a cutoff year (`current year - 10`).\n",
    "- Identifying centers that performed **at least one transplant** since the cutoff year.\n",
    "- Removing from the dataset all centers that have been **inactive** during this period."
   ]
  },
  {
   "cell_type": "code",
   "execution_count": 9,
   "id": "cd2b9e8d",
   "metadata": {},
   "outputs": [
    {
     "name": "stdout",
     "output_type": "stream",
     "text": [
      "🏥 Transplant centers before filtering: 52\n",
      "✅ Active centers (since 2014): 46\n",
      "📊 Transplants before filtering: 50879\n",
      "📊 Transplants after filtering:  50807\n",
      "📉 Transplants removed from analysis: 72\n"
     ]
    }
   ],
   "source": [
    "# 📅 1. Define the cutoff year (e.g., last 10 years)\n",
    "cutoff_year = df_all['Anno'].max() - 10  # You can adjust the value (e.g., 5 for last 5 years)\n",
    "\n",
    "# 🏥 2. Count transplant centers before filtering\n",
    "centers_before = df_all['Struttura trapianto'].nunique()\n",
    "\n",
    "# 📊 3. Total transplants before filtering\n",
    "transplants_before = df_all['Numero'].sum()\n",
    "\n",
    "# 🔍 4. Identify active centers (performed at least one transplant since cutoff year)\n",
    "active_centers = df_all[df_all['Anno'] > cutoff_year]['Struttura trapianto'].unique()\n",
    "\n",
    "# 📁 5. Filter dataset to only include active centers\n",
    "df_active = df_all[df_all['Struttura trapianto'].isin(active_centers)]\n",
    "\n",
    "# 🏥 6. Count transplant centers after filtering\n",
    "centers_after = df_active['Struttura trapianto'].nunique()\n",
    "\n",
    "# 📊 7. Total transplants after filtering\n",
    "transplants_after = df_active['Numero'].sum()\n",
    "\n",
    "# 📉 8. Transplants removed from analysis\n",
    "excluded_transplants = transplants_before - transplants_after\n",
    "\n",
    "# ✅ 9. Summary\n",
    "print(f\"🏥 Transplant centers before filtering: {centers_before}\")\n",
    "print(f\"✅ Active centers (since {cutoff_year}): {centers_after}\")\n",
    "print(f\"📊 Transplants before filtering: {transplants_before}\")\n",
    "print(f\"📊 Transplants after filtering:  {transplants_after}\")\n",
    "print(f\"📉 Transplants removed from analysis: {excluded_transplants}\")"
   ]
  },
  {
   "cell_type": "markdown",
   "id": "d5f40270",
   "metadata": {},
   "source": [
    "Although inactive centers were removed based on their transplant activity over the last 10 years, we retain **all historical data from 2010 onward** for the active centers. This ensures the dataset remains comprehensive and robust for longitudinal analysis."
   ]
  },
  {
   "cell_type": "markdown",
   "id": "5e94a0bc",
   "metadata": {},
   "source": [
    "### 🧼 Filtering Dataset to Active Transplant Centers\n",
    "\n",
    "To ensure that the analysis focuses only on currently active transplant centers, we filter out centers that have **not performed any transplants in the last 10 years**.\n",
    "\n",
    "The filtering process involves:\n",
    "- Identifying the **cutoff year** (`current year - 10`).\n",
    "- Selecting centers that recorded **at least one transplant** since that year.\n",
    "- Filtering the full dataset to include only these active centers.\n",
    "\n",
    "This step improves data quality by removing outdated programs and centers no longer in operation."
   ]
  },
  {
   "cell_type": "code",
   "execution_count": 10,
   "id": "754a48a8",
   "metadata": {},
   "outputs": [],
   "source": [
    "# 1. Define the cutoff year (e.g., last 10 years of data)\n",
    "cutoff_year = df_all['Anno'].max() - 10\n",
    "\n",
    "# 2. Filter to include only data from the last 10 years\n",
    "recent_df = df_all[df_all['Anno'] > cutoff_year]\n",
    "\n",
    "# 3. Identify active transplant centers (at least 1 transplant in last 10 years)\n",
    "active_centers = recent_df[recent_df['Numero'] > 0]['Struttura trapianto'].unique()\n",
    "\n",
    "# 4. Filter the original dataset to include only active centers\n",
    "df_filtered = df_all[df_all['Struttura trapianto'].isin(active_centers)].copy()\n",
    "df_filtered = df_filtered.reset_index(drop=True)"
   ]
  },
  {
   "cell_type": "code",
   "execution_count": 11,
   "id": "f45dee65",
   "metadata": {},
   "outputs": [
    {
     "name": "stdout",
     "output_type": "stream",
     "text": [
      "<class 'pandas.core.frame.DataFrame'>\n",
      "RangeIndex: 6794 entries, 0 to 6793\n",
      "Data columns (total 6 columns):\n",
      " #   Column               Non-Null Count  Dtype \n",
      "---  ------               --------------  ----- \n",
      " 0   Struttura trapianto  6794 non-null   object\n",
      " 1   Città                6794 non-null   object\n",
      " 2   Organo               6794 non-null   object\n",
      " 3   Sottotipo            6794 non-null   object\n",
      " 4   Numero               6794 non-null   int64 \n",
      " 5   Anno                 6794 non-null   int64 \n",
      "dtypes: int64(2), object(4)\n",
      "memory usage: 318.6+ KB\n"
     ]
    }
   ],
   "source": [
    "df_filtered.info()"
   ]
  },
  {
   "cell_type": "markdown",
   "id": "f928f8b4",
   "metadata": {},
   "source": [
    "### 🏙️ Enriching with Full City Names and Regions\n",
    "To improve readability and support geographic analyses, we enrich the dataset by mapping the city codes (Città column) to their full city names and corresponding Italian regions. This adds important contextual information for each transplant center.\n",
    "\n",
    "We add two new columns to the `df_filtered` DataFrame:\n",
    "\n",
    "- `Città completa`: full name of the city\n",
    "\n",
    "- `Regione`: the Italian region where the city is located"
   ]
  },
  {
   "cell_type": "code",
   "execution_count": 12,
   "id": "58528b77",
   "metadata": {},
   "outputs": [
    {
     "data": {
      "text/plain": [
       "array(['NO', 'TO', 'BG', 'BS', 'MI', 'PV', 'VA', 'PD', 'TV', 'VI', 'VR',\n",
       "       'UD', 'GE', 'BO', 'MO', 'PR', 'FI', 'PI', 'SI', 'PG', 'AN', 'RM',\n",
       "       'AQ', 'SA', 'BA', 'CS', 'RC', 'CT', 'PA', 'CA', 'NA'], dtype=object)"
      ]
     },
     "execution_count": 12,
     "metadata": {},
     "output_type": "execute_result"
    }
   ],
   "source": [
    "df_filtered['Città'].unique()"
   ]
  },
  {
   "cell_type": "code",
   "execution_count": 13,
   "id": "ee30c1f0",
   "metadata": {},
   "outputs": [],
   "source": [
    "# Mapping of city codes to full city names and regions\n",
    "city_region_map = {\n",
    "    'NO': ('Novara', 'Piemonte'),\n",
    "    'TO': ('Torino', 'Piemonte'),\n",
    "    'BG': ('Bergamo', 'Lombardia'),\n",
    "    'BS': ('Brescia', 'Lombardia'),\n",
    "    'MI': ('Milano', 'Lombardia'),\n",
    "    'PV': ('Pavia', 'Lombardia'),\n",
    "    'VA': ('Varese', 'Lombardia'),\n",
    "    'PD': ('Padova', 'Veneto'),\n",
    "    'TV': ('Treviso', 'Veneto'),\n",
    "    'VI': ('Vicenza', 'Veneto'),\n",
    "    'VR': ('Verona', 'Veneto'),\n",
    "    'UD': ('Udine', 'Friuli Venezia Giulia'),\n",
    "    'GE': ('Genova', 'Liguria'),\n",
    "    'BO': ('Bologna', 'Emilia-Romagna'),\n",
    "    'MO': ('Modena', 'Emilia-Romagna'),\n",
    "    'PR': ('Parma', 'Emilia-Romagna'),\n",
    "    'FI': ('Firenze', 'Toscana'),\n",
    "    'PI': ('Pisa', 'Toscana'),\n",
    "    'SI': ('Siena', 'Toscana'),\n",
    "    'PG': ('Perugia', 'Umbria'),\n",
    "    'AN': ('Ancona', 'Marche'),\n",
    "    'RM': ('Roma', 'Lazio'),\n",
    "    'AQ': ('L’Aquila', 'Abruzzo'),\n",
    "    'SA': ('Salerno', 'Campania'),\n",
    "    'BA': ('Bari', 'Puglia'),\n",
    "    'CS': ('Cosenza', 'Calabria'),\n",
    "    'RC': ('Reggio Calabria', 'Calabria'),\n",
    "    'CT': ('Catania', 'Sicilia'),\n",
    "    'PA': ('Palermo', 'Sicilia'),\n",
    "    'CA': ('Cagliari', 'Sardegna'),\n",
    "    'NA': ('Napoli', 'Campania'),\n",
    "}"
   ]
  },
  {
   "cell_type": "code",
   "execution_count": 14,
   "id": "41139ff8",
   "metadata": {},
   "outputs": [],
   "source": [
    "# Map city codes to full names and regions\n",
    "df_filtered['Città_nome'] = df_filtered['Città'].map(lambda x: city_region_map.get(x, (None, None))[0])\n",
    "df_filtered['Regione'] = df_filtered['Città'].map(lambda x: city_region_map.get(x, (None, None))[1])"
   ]
  },
  {
   "cell_type": "markdown",
   "id": "6601336d",
   "metadata": {},
   "source": [
    "### ✅ Data Consistency Check\n",
    "Before proceeding to data exploration and visualization, we perform a few key checks to ensure the dataset is clean and consistent:\n",
    "\n",
    "- Ensure there are no missing or null values in critical columns (`Anno`, `Organo`, `Struttura trapianto`, `Numero`, `Città`, `Regione`)\n",
    "- Verify that the `Numero` field is numeric and non-negative\n",
    "- Confirm that each combination of year, organ, and transplant center is unique (or appropriately duplicated)\n",
    "\n",
    "These checks help validate the integrity of the data and prepare it for reliable analysis."
   ]
  },
  {
   "cell_type": "code",
   "execution_count": 15,
   "id": "ee844209",
   "metadata": {},
   "outputs": [
    {
     "name": "stdout",
     "output_type": "stream",
     "text": [
      "🔍 Missing values per column:\n",
      " Anno                   0\n",
      "Organo                 0\n",
      "Struttura trapianto    0\n",
      "Numero                 0\n",
      "Città                  0\n",
      "Regione                0\n",
      "dtype: int64\n",
      "✅ All values in 'Numero' are non-negative.\n",
      "\n",
      "🔢 Data types:\n",
      " Struttura trapianto    object\n",
      "Città                  object\n",
      "Organo                 object\n",
      "Sottotipo              object\n",
      "Numero                  int64\n",
      "Anno                    int64\n",
      "Città_nome             object\n",
      "Regione                object\n",
      "dtype: object\n",
      "\n",
      "📌 Duplicate rows found: 0\n"
     ]
    }
   ],
   "source": [
    "# ✅ Data Consistency Checks\n",
    "\n",
    "# 1. Check for missing values in key columns\n",
    "missing_summary = df_filtered[['Anno', 'Organo', 'Struttura trapianto', 'Numero', 'Città', 'Regione']].isnull().sum()\n",
    "print(\"🔍 Missing values per column:\\n\", missing_summary)\n",
    "\n",
    "# 2. Check if 'Numero' contains only non-negative values\n",
    "if (df_filtered['Numero'] < 0).any():\n",
    "    print(\"⚠️ Warning: Negative values found in 'Numero'\")\n",
    "else:\n",
    "    print(\"✅ All values in 'Numero' are non-negative.\")\n",
    "\n",
    "# 3. Confirm data types\n",
    "print(\"\\n🔢 Data types:\\n\", df_filtered.dtypes)\n",
    "\n",
    "# 4. Check for unexpected duplicates (optional)\n",
    "duplicates = df_filtered.duplicated(subset=['Anno', 'Organo', 'Struttura trapianto', 'Sottotipo'])\n",
    "print(f\"\\n📌 Duplicate rows found: {duplicates.sum()}\")"
   ]
  },
  {
   "cell_type": "markdown",
   "id": "109d1830",
   "metadata": {},
   "source": [
    "### 💾 Finalizing the Cleaned Dataset\n",
    "At this stage, we've successfully cleaned, filtered, and enriched the dataset with relevant location details. We now have a consolidated and robust dataset covering transplant activity across all active centers in Italy from 2010 to 2024.\n",
    "\n",
    "This cleaned dataset will serve as the foundation for the next steps, focused on data exploration and visualization.\n",
    "\n",
    "We'll now save the `df_filtered` DataFrame for reuse in the upcoming notebook."
   ]
  },
  {
   "cell_type": "code",
   "execution_count": 16,
   "id": "f9baeed2",
   "metadata": {},
   "outputs": [
    {
     "name": "stdout",
     "output_type": "stream",
     "text": [
      "✅ Cleaned dataset saved successfully.\n"
     ]
    }
   ],
   "source": [
    "# Save the cleaned and enriched dataset\n",
    "df_filtered.to_csv(\"../data_cleaned/Transplants_Italy_2010_2024_clean.csv\", index=False)\n",
    "\n",
    "print(\"✅ Cleaned dataset saved successfully.\")"
   ]
  }
 ],
 "metadata": {
  "kernelspec": {
   "display_name": "base",
   "language": "python",
   "name": "python3"
  },
  "language_info": {
   "codemirror_mode": {
    "name": "ipython",
    "version": 3
   },
   "file_extension": ".py",
   "mimetype": "text/x-python",
   "name": "python",
   "nbconvert_exporter": "python",
   "pygments_lexer": "ipython3",
   "version": "3.12.7"
  }
 },
 "nbformat": 4,
 "nbformat_minor": 5
}
