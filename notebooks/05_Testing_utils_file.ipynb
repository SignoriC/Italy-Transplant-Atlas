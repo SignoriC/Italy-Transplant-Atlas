{
 "cells": [
  {
   "cell_type": "markdown",
   "id": "c215eef5",
   "metadata": {},
   "source": [
    "In this short notebook, I want to test how the functions saved in the `utils.py` file perform when scraping transplant data for all organs across multiple years."
   ]
  },
  {
   "cell_type": "code",
   "execution_count": 1,
   "id": "4cfcb6bd",
   "metadata": {},
   "outputs": [],
   "source": [
    "from utils import scrape_year, reset_main_page, save_each_organ_table_for_year\n",
    "from selenium import webdriver\n"
   ]
  },
  {
   "cell_type": "code",
   "execution_count": 2,
   "id": "aad582a5",
   "metadata": {},
   "outputs": [
    {
     "name": "stdout",
     "output_type": "stream",
     "text": [
      "🔄 Scraping Cuore data for 2024...\n",
      "✅ Saved: ../data_raw/2024/2024_Cuore.csv\n",
      "🔄 Scraping Rene data for 2024...\n",
      "✅ Saved: ../data_raw/2024/2024_Rene.csv\n"
     ]
    }
   ],
   "source": [
    "driver = webdriver.Chrome()\n",
    "save_each_organ_table_for_year(driver, year=\"2024\", organs=[\"Cuore\", \"Rene\"], output_folder=\"../data_raw/2024\")\n",
    "driver.quit()"
   ]
  }
 ],
 "metadata": {
  "kernelspec": {
   "display_name": "base",
   "language": "python",
   "name": "python3"
  },
  "language_info": {
   "codemirror_mode": {
    "name": "ipython",
    "version": 3
   },
   "file_extension": ".py",
   "mimetype": "text/x-python",
   "name": "python",
   "nbconvert_exporter": "python",
   "pygments_lexer": "ipython3",
   "version": "3.12.7"
  }
 },
 "nbformat": 4,
 "nbformat_minor": 5
}
