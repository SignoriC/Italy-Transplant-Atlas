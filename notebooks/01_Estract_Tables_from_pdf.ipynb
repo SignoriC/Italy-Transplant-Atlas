{
 "cells": [
  {
   "cell_type": "code",
   "execution_count": 1,
   "id": "b364bb16",
   "metadata": {},
   "outputs": [],
   "source": [
    "import camelot\n",
    "import pandas as pd"
   ]
  },
  {
   "cell_type": "code",
   "execution_count": 2,
   "id": "1420aec0",
   "metadata": {},
   "outputs": [
    {
     "name": "stdout",
     "output_type": "stream",
     "text": [
      "Found 6 table(s) in the PDF.\n",
      "\n",
      "--- Table 1 from Page 176 ---\n",
      "\n",
      "--- Table 2 from Page 177 ---\n",
      "\n",
      "--- Table 3 from Page 178 ---\n",
      "\n",
      "--- Table 4 from Page 179 ---\n",
      "\n",
      "--- Table 5 from Page 180 ---\n",
      "\n",
      "--- Table 6 from Page 181 ---\n"
     ]
    }
   ],
   "source": [
    "pdf_path = \"../data_raw/C_17_cntPubblicazioni_636_allegato.pdf\"  # Replace with your PDF file path\n",
    "pages = \"176-181\"  # Or specify a page range, e.g., \"1-3\", \"2\"\n",
    "\n",
    "# Try 'lattice' method first for tables with lines\n",
    "#tables = camelot.read_pdf(pdf_path, pages=pages, flavor='lattice')\n",
    "\n",
    "# If 'lattice' doesn't work well, try 'stream' for tables without lines\n",
    "tables = camelot.read_pdf(pdf_path, pages=pages, flavor='stream')\n",
    "\n",
    "if tables:\n",
    "    print(f\"Found {len(tables)} table(s) in the PDF.\")\n",
    "    # Iterate through the extracted tables\n",
    "    all_dataframes = []\n",
    "    for i, table in enumerate(tables):\n",
    "        print(f\"\\n--- Table {i+1} from Page {table.page} ---\")\n",
    "        df = table.df  # Get the table as a pandas DataFrame\n",
    "        # print(df.head()) # Print the first few rows of the DataFrame\n",
    "\n",
    "        # You can save each table to a separate CSV or Excel file\n",
    "        # table.to_csv(f'table_{i+1}.csv')\n",
    "        # table.to_excel(f'table_{i+1}.xlsx')\n",
    "\n",
    "        # Or, if you want to combine them, you'd append them to a list\n",
    "        all_dataframes.append(df)\n",
    "\n",
    "else:\n",
    "    print(\"No tables found or extraction failed.\")"
   ]
  },
  {
   "cell_type": "code",
   "execution_count": 3,
   "id": "f7af0e88",
   "metadata": {},
   "outputs": [],
   "source": [
    "df = pd.concat(all_dataframes, ignore_index=True)"
   ]
  },
  {
   "cell_type": "code",
   "execution_count": 4,
   "id": "95e73c75",
   "metadata": {},
   "outputs": [],
   "source": [
    "df.to_csv('../data_raw/hct_raw_data.csv', index=False)"
   ]
  }
 ],
 "metadata": {
  "kernelspec": {
   "display_name": "base",
   "language": "python",
   "name": "python3"
  },
  "language_info": {
   "codemirror_mode": {
    "name": "ipython",
    "version": 3
   },
   "file_extension": ".py",
   "mimetype": "text/x-python",
   "name": "python",
   "nbconvert_exporter": "python",
   "pygments_lexer": "ipython3",
   "version": "3.12.7"
  }
 },
 "nbformat": 4,
 "nbformat_minor": 5
}
