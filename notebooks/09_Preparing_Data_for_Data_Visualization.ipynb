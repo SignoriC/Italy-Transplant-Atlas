{
 "cells": [
  {
   "cell_type": "markdown",
   "id": "b2aa8a16",
   "metadata": {},
   "source": [
    "## 🧹 Step 1–2: Load and Normalize SOT Center Names\n",
    "\n",
    "We start by loading the dataset containing all active Solid Organ Transplant (SOT) centers from 2010 to 2024.\n",
    "\n",
    "To ensure consistency and reduce duplication, we normalize known naming variants across transplant centers. For example:\n",
    "- We remove administrative suffixes such as `\", convenzione LAZIO\"`.\n",
    "- We merge entries like `\"UD - POLICLINICO UNIVERSITARIO\"` into `\"UD - AZIENDA OSPEDALIERA S. M. MISERICORDIA\"` to consolidate data from the same physical center.\n",
    "\n",
    "This step reduces the number of unique center names and avoids mismatches during integration with the HCT dataset in the next steps.\n",
    "\n",
    "The following stats summarize the cleaned dataset:\n",
    "- Total transplants: `<calculated dynamically>`\n",
    "- Active regions: `<calculated dynamically>`\n",
    "- Unique centers: `<calculated dynamically>`"
   ]
  },
  {
   "cell_type": "code",
   "execution_count": 1,
   "id": "3da75d55",
   "metadata": {},
   "outputs": [
    {
     "name": "stdout",
     "output_type": "stream",
     "text": [
      "<class 'pandas.core.frame.DataFrame'>\n",
      "RangeIndex: 6794 entries, 0 to 6793\n",
      "Data columns (total 8 columns):\n",
      " #   Column               Non-Null Count  Dtype \n",
      "---  ------               --------------  ----- \n",
      " 0   Struttura trapianto  6794 non-null   object\n",
      " 1   Città                6592 non-null   object\n",
      " 2   Organo               6794 non-null   object\n",
      " 3   Sottotipo            6794 non-null   object\n",
      " 4   Numero               6794 non-null   int64 \n",
      " 5   Anno                 6794 non-null   int64 \n",
      " 6   Città_nome           6794 non-null   object\n",
      " 7   Regione              6794 non-null   object\n",
      "dtypes: int64(2), object(6)\n",
      "memory usage: 424.8+ KB\n"
     ]
    }
   ],
   "source": [
    "import pandas as pd\n",
    "\n",
    "# Load datasets\n",
    "sot_df = pd.read_csv(\"../data_cleaned/Transplants_Italy_2010_2024_clean.csv\")\n",
    "sot_df.info()"
   ]
  },
  {
   "cell_type": "code",
   "execution_count": 2,
   "id": "e0d6613b",
   "metadata": {},
   "outputs": [
    {
     "name": "stdout",
     "output_type": "stream",
     "text": [
      "Nr of unique 'Strutture trapianto': 46\n",
      "Number of unique 'Struttura trapianto' values containing ', convenzione': 3\n"
     ]
    }
   ],
   "source": [
    "print(\"Nr of unique 'Strutture trapianto':\", sot_df['Struttura trapianto'].nunique())\n",
    "\n",
    "unique_structures = sot_df['Struttura trapianto'].unique()\n",
    "count = 0\n",
    "\n",
    "for structure in unique_structures:\n",
    "    if 'convenzione' in structure:\n",
    "        count += 1\n",
    "\n",
    "print(f\"Number of unique 'Struttura trapianto' values containing ', convenzione': {count}\")"
   ]
  },
  {
   "cell_type": "code",
   "execution_count": 3,
   "id": "5972943e",
   "metadata": {},
   "outputs": [],
   "source": [
    "sot_df['Struttura trapianto'] =sot_df['Struttura trapianto'].str.replace(', convenzione LAZIO', '', regex=True)\n",
    "sot_df['Struttura trapianto'] =sot_df['Struttura trapianto'].str.replace('UD - POLICLINICO UNIVERSITARIO',\n",
    "                                                                 'UD - AZIENDA OSPEDALIERA S. M. MISERICORDIA',\n",
    "                                                                 regex=True)\n",
    "sot_df['Struttura trapianto'] =sot_df['Struttura trapianto'].str.replace('TO - AOU Città della Salute, PO OIRM',\n",
    "                                                                 'TO - AOU Città della Salute, PO S.G.Battista',\n",
    "                                                                 regex=True)"
   ]
  },
  {
   "cell_type": "markdown",
   "id": "2e4f3073",
   "metadata": {},
   "source": [
    "### 🔍 Step 3: Summarize Coverage\n",
    "Once normalized, we print key summary statistics:\n",
    "\n",
    "- Total number of transplants performed.\n",
    "\n",
    "- Number of active regions.\n",
    "\n",
    "- Number of unique transplant centers.\n",
    "\n",
    "- Distribution of centers across regions.\n",
    "\n",
    "These statistics help verify data completeness and identify any anomalies before merging with HCT data."
   ]
  },
  {
   "cell_type": "code",
   "execution_count": 4,
   "id": "8441f15f",
   "metadata": {},
   "outputs": [
    {
     "name": "stdout",
     "output_type": "stream",
     "text": [
      "🧬 SOT Italy Active Centers (2010-2024):\n",
      "Total patients transplanted: 50807\n",
      "Total nr of Regions with Active Centers: 16\n",
      "Total Active Centers: 41\n",
      "\n",
      "Nr of Active Centers per Region: \n",
      "\n",
      "                  Regione  Struttura trapianto\n",
      "7               Lombardia                    8\n",
      "5                   Lazio                    5\n",
      "2                Campania                    4\n",
      "15                 Veneto                    4\n",
      "3          Emilia-Romagna                    3\n",
      "12                Sicilia                    3\n",
      "13                Toscana                    3\n",
      "1                Calabria                    2\n",
      "9                Piemonte                    2\n",
      "0                 Abruzzo                    1\n",
      "4   Friuli Venezia Giulia                    1\n",
      "6                 Liguria                    1\n",
      "8                  Marche                    1\n",
      "10                 Puglia                    1\n",
      "11               Sardegna                    1\n",
      "14                 Umbria                    1\n"
     ]
    }
   ],
   "source": [
    "# Preview SOT centers\n",
    "print(\"🧬 SOT Italy Active Centers (2010-2024):\")\n",
    "print('Total patients transplanted:', sot_df['Numero'].sum())\n",
    "\n",
    "regions = [x for x in sot_df['Regione'].unique()]\n",
    "print('Total nr of Regions with Active Centers:', len(regions))\n",
    "\n",
    "print('Total Active Centers:', sot_df['Struttura trapianto'].nunique())\n",
    "\n",
    "print(\"\\nNr of Active Centers per Region: \\n\")\n",
    "print(sot_df.groupby('Regione', as_index=False)['Struttura trapianto'].nunique()\n",
    "      .sort_values(by='Struttura trapianto', ascending=False))"
   ]
  },
  {
   "cell_type": "markdown",
   "id": "a224756f",
   "metadata": {},
   "source": [
    "#### 🔄 Step 4: Extract and Export HCT Center Names for Manual Harmonization\n",
    "We extract the distinct list of Hematopoietic Cell Transplant (HCT) center names to prepare for manual name harmonization. This is necessary due to inconsistencies and lack of standardized naming across datasets.\n",
    "\n",
    "Steps performed:\n",
    "\n",
    "- Load the pre-processed HCT dataset.\n",
    "\n",
    "- Select and deduplicate key identifying columns: `region`, `city`, and `full program name`.\n",
    "\n",
    "- Export the result to an Excel file (`hct_center_names.xlsx`) for manual review and harmonization.\n",
    "\n",
    "This step ensures that all HCT centers can later be merged accurately with SOT centers based on a unified naming convention."
   ]
  },
  {
   "cell_type": "code",
   "execution_count": 5,
   "id": "978ba2f9",
   "metadata": {},
   "outputs": [
    {
     "name": "stdout",
     "output_type": "stream",
     "text": [
      "<class 'pandas.core.frame.DataFrame'>\n",
      "RangeIndex: 56 entries, 0 to 55\n",
      "Data columns (total 9 columns):\n",
      " #   Column                        Non-Null Count  Dtype \n",
      "---  ------                        --------------  ----- \n",
      " 0   region                        56 non-null     object\n",
      " 1   full program name             56 non-null     object\n",
      " 2   allogeneic total              56 non-null     int64 \n",
      " 3   matched family donors         56 non-null     int64 \n",
      " 4   unrelated donors              56 non-null     int64 \n",
      " 5   haploidentical family donors  56 non-null     int64 \n",
      " 6   city                          56 non-null     object\n",
      " 7   patient                       56 non-null     object\n",
      " 8   Organ                         56 non-null     object\n",
      "dtypes: int64(4), object(5)\n",
      "memory usage: 4.1+ KB\n"
     ]
    }
   ],
   "source": [
    "hct_df = pd.read_excel(\"../data_cleaned/hct_data_2023_reworked.xlsx\")\n",
    "hct_df.info()"
   ]
  },
  {
   "cell_type": "code",
   "execution_count": 6,
   "id": "6fa3a14e",
   "metadata": {},
   "outputs": [
    {
     "name": "stdout",
     "output_type": "stream",
     "text": [
      "📌 Total HCT centers: 56\n",
      "✅ Exported HCT centers to 'hct_center_names.xlsx'\n"
     ]
    }
   ],
   "source": [
    "# Create a DataFrame for export\n",
    "hct_names_df = hct_df[['region', 'city', 'full program name']].drop_duplicates()\n",
    "\n",
    "# Display count\n",
    "print(f\"📌 Total HCT centers: {len(hct_names_df)}\")\n",
    "\n",
    "# Export for manual matching\n",
    "hct_names_df.to_excel(\"../data_cleaned/hct_center_names.xlsx\", index=False)\n",
    "print(\"✅ Exported HCT centers to 'hct_center_names.xlsx'\")"
   ]
  },
  {
   "cell_type": "code",
   "execution_count": 7,
   "id": "01828d80",
   "metadata": {},
   "outputs": [
    {
     "data": {
      "text/html": [
       "<div>\n",
       "<style scoped>\n",
       "    .dataframe tbody tr th:only-of-type {\n",
       "        vertical-align: middle;\n",
       "    }\n",
       "\n",
       "    .dataframe tbody tr th {\n",
       "        vertical-align: top;\n",
       "    }\n",
       "\n",
       "    .dataframe thead th {\n",
       "        text-align: right;\n",
       "    }\n",
       "</style>\n",
       "<table border=\"1\" class=\"dataframe\">\n",
       "  <thead>\n",
       "    <tr style=\"text-align: right;\">\n",
       "      <th></th>\n",
       "      <th>region</th>\n",
       "      <th>city</th>\n",
       "      <th>full program name</th>\n",
       "    </tr>\n",
       "  </thead>\n",
       "  <tbody>\n",
       "    <tr>\n",
       "      <th>0</th>\n",
       "      <td>Abruzzo</td>\n",
       "      <td>Pescara</td>\n",
       "      <td>248 Ospedale Civile Santo Spirito</td>\n",
       "    </tr>\n",
       "    <tr>\n",
       "      <th>1</th>\n",
       "      <td>Calabria</td>\n",
       "      <td>Reggio Calabria</td>\n",
       "      <td>587 Grande Ospedale Bianchi-Melacrino-Morelli</td>\n",
       "    </tr>\n",
       "  </tbody>\n",
       "</table>\n",
       "</div>"
      ],
      "text/plain": [
       "     region             city                              full program name\n",
       "0   Abruzzo          Pescara              248 Ospedale Civile Santo Spirito\n",
       "1  Calabria  Reggio Calabria  587 Grande Ospedale Bianchi-Melacrino-Morelli"
      ]
     },
     "execution_count": 7,
     "metadata": {},
     "output_type": "execute_result"
    }
   ],
   "source": [
    "hct_names_df.head(2)"
   ]
  },
  {
   "cell_type": "markdown",
   "id": "556d41ea",
   "metadata": {},
   "source": [
    "### 📤 Step 5: Export SOT Center Names for Reference and Manual Alignment\n",
    "In this step, we prepare a clean list of all unique Solid Organ Transplant (SOT) centers as a reference for manual harmonization. This is particularly useful for:\n",
    "\n",
    "- Aligning naming conventions across datasets.\n",
    "\n",
    "- Supporting consistent mapping to HCT centers where applicable.\n",
    "\n",
    "- Building a master list of transplant centers in Italy.\n",
    "\n",
    "Actions:\n",
    "\n",
    "- Extract relevant identifying columns: `Regione`, `Città_nome`, and `Struttura trapianto`.\n",
    "\n",
    "- Remove duplicates to retain only distinct center entries.\n",
    "\n",
    "- Export the result to `sot_center_names.xlsx` for offline reference or manual editing.\n",
    "\n",
    "This ensures we maintain naming consistency and simplifies downstream merging processes.\n",
    "\n"
   ]
  },
  {
   "cell_type": "code",
   "execution_count": 8,
   "id": "a1df9f21",
   "metadata": {},
   "outputs": [
    {
     "data": {
      "text/html": [
       "<div>\n",
       "<style scoped>\n",
       "    .dataframe tbody tr th:only-of-type {\n",
       "        vertical-align: middle;\n",
       "    }\n",
       "\n",
       "    .dataframe tbody tr th {\n",
       "        vertical-align: top;\n",
       "    }\n",
       "\n",
       "    .dataframe thead th {\n",
       "        text-align: right;\n",
       "    }\n",
       "</style>\n",
       "<table border=\"1\" class=\"dataframe\">\n",
       "  <thead>\n",
       "    <tr style=\"text-align: right;\">\n",
       "      <th></th>\n",
       "      <th>Regione</th>\n",
       "      <th>Città_nome</th>\n",
       "      <th>Struttura trapianto</th>\n",
       "    </tr>\n",
       "  </thead>\n",
       "  <tbody>\n",
       "    <tr>\n",
       "      <th>0</th>\n",
       "      <td>Piemonte</td>\n",
       "      <td>Novara</td>\n",
       "      <td>NO - AOU MAGGIORE DELLA CARITA' - NOVARA</td>\n",
       "    </tr>\n",
       "    <tr>\n",
       "      <th>1</th>\n",
       "      <td>Piemonte</td>\n",
       "      <td>Torino</td>\n",
       "      <td>TO - AOU Città della Salute, PO S.G.Battista</td>\n",
       "    </tr>\n",
       "  </tbody>\n",
       "</table>\n",
       "</div>"
      ],
      "text/plain": [
       "    Regione Città_nome                           Struttura trapianto\n",
       "0  Piemonte     Novara      NO - AOU MAGGIORE DELLA CARITA' - NOVARA\n",
       "1  Piemonte     Torino  TO - AOU Città della Salute, PO S.G.Battista"
      ]
     },
     "execution_count": 8,
     "metadata": {},
     "output_type": "execute_result"
    }
   ],
   "source": [
    "# Extract the full list of SOT center names\n",
    "sot_names_df = sot_df[['Regione', 'Città_nome', 'Struttura trapianto']].drop_duplicates()\n",
    "# Export for manual matching\n",
    "sot_names_df.to_excel(\"../data_cleaned/sot_center_names.xlsx\", index=False)\n",
    "sot_names_df.head(2)"
   ]
  },
  {
   "cell_type": "markdown",
   "id": "25b9314d",
   "metadata": {},
   "source": [
    "### 🧩 Harmonizing and Classifying Transplant Centers\n",
    "In this step, we integrate harmonized names and classifications for all transplant centers—both Solid Organ Transplant (SOT) and Hematopoietic Cell Transplant (HCT)—to create consistent metadata and enable reliable analysis."
   ]
  },
  {
   "cell_type": "markdown",
   "id": "789896ef",
   "metadata": {},
   "source": [
    "#### 🧬 HCT Centers\n",
    "- We merge the original `hct_df` dataset with the manually curated harmonized names (`hct_center_names_harmonized.xlsx`).\n",
    "\n",
    "- Each center is assigned a center_type based on its activity:\n",
    "\n",
    "    - `SOT+HCT`: centers performing both transplant types,\n",
    "\n",
    "    - `HCT only`: HCT-exclusive programs.\n",
    "\n",
    "We then:\n",
    "\n",
    "- Rename and standardize column names for compatibility,\n",
    "\n",
    "- Drop irrelevant columns,\n",
    "\n",
    "- Add transplant subtype (`allo-HCT`) and transplant year (`2023`).\n",
    "\n",
    "The objective is that both SOTs and HCTs datasets share the following common structure:\n",
    "\n",
    "```python\n",
    "region | city | center_name | center_type | patient | organ | subtype | number | year\n",
    "```"
   ]
  },
  {
   "cell_type": "code",
   "execution_count": 9,
   "id": "0f9004e8",
   "metadata": {},
   "outputs": [
    {
     "data": {
      "text/html": [
       "<div>\n",
       "<style scoped>\n",
       "    .dataframe tbody tr th:only-of-type {\n",
       "        vertical-align: middle;\n",
       "    }\n",
       "\n",
       "    .dataframe tbody tr th {\n",
       "        vertical-align: top;\n",
       "    }\n",
       "\n",
       "    .dataframe thead th {\n",
       "        text-align: right;\n",
       "    }\n",
       "</style>\n",
       "<table border=\"1\" class=\"dataframe\">\n",
       "  <thead>\n",
       "    <tr style=\"text-align: right;\">\n",
       "      <th></th>\n",
       "      <th>region</th>\n",
       "      <th>city</th>\n",
       "      <th>full program name</th>\n",
       "      <th>harmonized name</th>\n",
       "      <th>Type</th>\n",
       "      <th>patient</th>\n",
       "    </tr>\n",
       "  </thead>\n",
       "  <tbody>\n",
       "    <tr>\n",
       "      <th>0</th>\n",
       "      <td>Abruzzo</td>\n",
       "      <td>Pescara</td>\n",
       "      <td>248 Ospedale Civile Santo Spirito</td>\n",
       "      <td>PE - OSPEDALE CIVILE SANTO SPIRITO</td>\n",
       "      <td>HCT only</td>\n",
       "      <td>adult only</td>\n",
       "    </tr>\n",
       "    <tr>\n",
       "      <th>1</th>\n",
       "      <td>Calabria</td>\n",
       "      <td>Reggio Calabria</td>\n",
       "      <td>587 Grande Ospedale Bianchi-Melacrino-Morelli</td>\n",
       "      <td>RC - OSPEDALE BIANCHI - MELACRINO - MORELLI</td>\n",
       "      <td>SOT+HCT</td>\n",
       "      <td>adult only</td>\n",
       "    </tr>\n",
       "  </tbody>\n",
       "</table>\n",
       "</div>"
      ],
      "text/plain": [
       "     region             city                              full program name  \\\n",
       "0   Abruzzo          Pescara              248 Ospedale Civile Santo Spirito   \n",
       "1  Calabria  Reggio Calabria  587 Grande Ospedale Bianchi-Melacrino-Morelli   \n",
       "\n",
       "                               harmonized name      Type     patient  \n",
       "0           PE - OSPEDALE CIVILE SANTO SPIRITO  HCT only  adult only  \n",
       "1  RC - OSPEDALE BIANCHI - MELACRINO - MORELLI   SOT+HCT  adult only  "
      ]
     },
     "execution_count": 9,
     "metadata": {},
     "output_type": "execute_result"
    }
   ],
   "source": [
    "hct_harmonized = pd.read_excel(\"../data_cleaned/hct_center_names_harmonized.xlsx\")\n",
    "hct_harmonized.head(2)"
   ]
  },
  {
   "cell_type": "code",
   "execution_count": 10,
   "id": "5a4acacd",
   "metadata": {},
   "outputs": [
    {
     "data": {
      "text/plain": [
       "Type\n",
       "HCT only    23\n",
       "SOT+HCT     33\n",
       "Name: harmonized name, dtype: int64"
      ]
     },
     "execution_count": 10,
     "metadata": {},
     "output_type": "execute_result"
    }
   ],
   "source": [
    "hct_harmonized.groupby('Type')['harmonized name'].nunique()"
   ]
  },
  {
   "cell_type": "code",
   "execution_count": 11,
   "id": "0cda2344",
   "metadata": {},
   "outputs": [
    {
     "data": {
      "text/html": [
       "<div>\n",
       "<style scoped>\n",
       "    .dataframe tbody tr th:only-of-type {\n",
       "        vertical-align: middle;\n",
       "    }\n",
       "\n",
       "    .dataframe tbody tr th {\n",
       "        vertical-align: top;\n",
       "    }\n",
       "\n",
       "    .dataframe thead th {\n",
       "        text-align: right;\n",
       "    }\n",
       "</style>\n",
       "<table border=\"1\" class=\"dataframe\">\n",
       "  <thead>\n",
       "    <tr style=\"text-align: right;\">\n",
       "      <th></th>\n",
       "      <th>region</th>\n",
       "      <th>full program name</th>\n",
       "      <th>allogeneic total</th>\n",
       "      <th>matched family donors</th>\n",
       "      <th>unrelated donors</th>\n",
       "      <th>haploidentical family donors</th>\n",
       "      <th>city</th>\n",
       "      <th>patient</th>\n",
       "      <th>Organ</th>\n",
       "    </tr>\n",
       "  </thead>\n",
       "  <tbody>\n",
       "    <tr>\n",
       "      <th>0</th>\n",
       "      <td>Abruzzo</td>\n",
       "      <td>248 Ospedale Civile Santo Spirito</td>\n",
       "      <td>32</td>\n",
       "      <td>8</td>\n",
       "      <td>10</td>\n",
       "      <td>14</td>\n",
       "      <td>Pescara</td>\n",
       "      <td>adult</td>\n",
       "      <td>HCT</td>\n",
       "    </tr>\n",
       "    <tr>\n",
       "      <th>1</th>\n",
       "      <td>Calabria</td>\n",
       "      <td>587 Grande Ospedale Bianchi-Melacrino-Morelli</td>\n",
       "      <td>41</td>\n",
       "      <td>15</td>\n",
       "      <td>17</td>\n",
       "      <td>9</td>\n",
       "      <td>Reggio Calabria</td>\n",
       "      <td>adult</td>\n",
       "      <td>HCT</td>\n",
       "    </tr>\n",
       "  </tbody>\n",
       "</table>\n",
       "</div>"
      ],
      "text/plain": [
       "     region                              full program name  allogeneic total  \\\n",
       "0   Abruzzo              248 Ospedale Civile Santo Spirito                32   \n",
       "1  Calabria  587 Grande Ospedale Bianchi-Melacrino-Morelli                41   \n",
       "\n",
       "   matched family donors  unrelated donors  haploidentical family donors  \\\n",
       "0                      8                10                            14   \n",
       "1                     15                17                             9   \n",
       "\n",
       "              city patient Organ  \n",
       "0          Pescara   adult   HCT  \n",
       "1  Reggio Calabria   adult   HCT  "
      ]
     },
     "execution_count": 11,
     "metadata": {},
     "output_type": "execute_result"
    }
   ],
   "source": [
    "hct_df.head(2)"
   ]
  },
  {
   "cell_type": "code",
   "execution_count": 12,
   "id": "95ff3aea",
   "metadata": {},
   "outputs": [
    {
     "data": {
      "text/html": [
       "<div>\n",
       "<style scoped>\n",
       "    .dataframe tbody tr th:only-of-type {\n",
       "        vertical-align: middle;\n",
       "    }\n",
       "\n",
       "    .dataframe tbody tr th {\n",
       "        vertical-align: top;\n",
       "    }\n",
       "\n",
       "    .dataframe thead th {\n",
       "        text-align: right;\n",
       "    }\n",
       "</style>\n",
       "<table border=\"1\" class=\"dataframe\">\n",
       "  <thead>\n",
       "    <tr style=\"text-align: right;\">\n",
       "      <th></th>\n",
       "      <th>region</th>\n",
       "      <th>city</th>\n",
       "      <th>full program name</th>\n",
       "      <th>harmonized name</th>\n",
       "      <th>Type</th>\n",
       "      <th>patient</th>\n",
       "    </tr>\n",
       "  </thead>\n",
       "  <tbody>\n",
       "    <tr>\n",
       "      <th>0</th>\n",
       "      <td>Abruzzo</td>\n",
       "      <td>Pescara</td>\n",
       "      <td>248 Ospedale Civile Santo Spirito</td>\n",
       "      <td>PE - OSPEDALE CIVILE SANTO SPIRITO</td>\n",
       "      <td>HCT only</td>\n",
       "      <td>adult only</td>\n",
       "    </tr>\n",
       "    <tr>\n",
       "      <th>1</th>\n",
       "      <td>Calabria</td>\n",
       "      <td>Reggio Calabria</td>\n",
       "      <td>587 Grande Ospedale Bianchi-Melacrino-Morelli</td>\n",
       "      <td>RC - OSPEDALE BIANCHI - MELACRINO - MORELLI</td>\n",
       "      <td>SOT+HCT</td>\n",
       "      <td>adult only</td>\n",
       "    </tr>\n",
       "  </tbody>\n",
       "</table>\n",
       "</div>"
      ],
      "text/plain": [
       "     region             city                              full program name  \\\n",
       "0   Abruzzo          Pescara              248 Ospedale Civile Santo Spirito   \n",
       "1  Calabria  Reggio Calabria  587 Grande Ospedale Bianchi-Melacrino-Morelli   \n",
       "\n",
       "                               harmonized name      Type     patient  \n",
       "0           PE - OSPEDALE CIVILE SANTO SPIRITO  HCT only  adult only  \n",
       "1  RC - OSPEDALE BIANCHI - MELACRINO - MORELLI   SOT+HCT  adult only  "
      ]
     },
     "execution_count": 12,
     "metadata": {},
     "output_type": "execute_result"
    }
   ],
   "source": [
    "hct_harmonized.head(2)"
   ]
  },
  {
   "cell_type": "code",
   "execution_count": 13,
   "id": "15028497",
   "metadata": {},
   "outputs": [
    {
     "data": {
      "text/html": [
       "<div>\n",
       "<style scoped>\n",
       "    .dataframe tbody tr th:only-of-type {\n",
       "        vertical-align: middle;\n",
       "    }\n",
       "\n",
       "    .dataframe tbody tr th {\n",
       "        vertical-align: top;\n",
       "    }\n",
       "\n",
       "    .dataframe thead th {\n",
       "        text-align: right;\n",
       "    }\n",
       "</style>\n",
       "<table border=\"1\" class=\"dataframe\">\n",
       "  <thead>\n",
       "    <tr style=\"text-align: right;\">\n",
       "      <th></th>\n",
       "      <th>region</th>\n",
       "      <th>full program name</th>\n",
       "      <th>allogeneic total</th>\n",
       "      <th>matched family donors</th>\n",
       "      <th>unrelated donors</th>\n",
       "      <th>haploidentical family donors</th>\n",
       "      <th>city</th>\n",
       "      <th>patient_x</th>\n",
       "      <th>Organ</th>\n",
       "      <th>center_name</th>\n",
       "      <th>center_type</th>\n",
       "      <th>patient_y</th>\n",
       "    </tr>\n",
       "  </thead>\n",
       "  <tbody>\n",
       "    <tr>\n",
       "      <th>0</th>\n",
       "      <td>Abruzzo</td>\n",
       "      <td>248 Ospedale Civile Santo Spirito</td>\n",
       "      <td>32</td>\n",
       "      <td>8</td>\n",
       "      <td>10</td>\n",
       "      <td>14</td>\n",
       "      <td>Pescara</td>\n",
       "      <td>adult</td>\n",
       "      <td>HCT</td>\n",
       "      <td>PE - OSPEDALE CIVILE SANTO SPIRITO</td>\n",
       "      <td>HCT only</td>\n",
       "      <td>adult only</td>\n",
       "    </tr>\n",
       "    <tr>\n",
       "      <th>1</th>\n",
       "      <td>Calabria</td>\n",
       "      <td>587 Grande Ospedale Bianchi-Melacrino-Morelli</td>\n",
       "      <td>41</td>\n",
       "      <td>15</td>\n",
       "      <td>17</td>\n",
       "      <td>9</td>\n",
       "      <td>Reggio Calabria</td>\n",
       "      <td>adult</td>\n",
       "      <td>HCT</td>\n",
       "      <td>RC - OSPEDALE BIANCHI - MELACRINO - MORELLI</td>\n",
       "      <td>SOT+HCT</td>\n",
       "      <td>adult only</td>\n",
       "    </tr>\n",
       "  </tbody>\n",
       "</table>\n",
       "</div>"
      ],
      "text/plain": [
       "     region                              full program name  allogeneic total  \\\n",
       "0   Abruzzo              248 Ospedale Civile Santo Spirito                32   \n",
       "1  Calabria  587 Grande Ospedale Bianchi-Melacrino-Morelli                41   \n",
       "\n",
       "   matched family donors  unrelated donors  haploidentical family donors  \\\n",
       "0                      8                10                            14   \n",
       "1                     15                17                             9   \n",
       "\n",
       "              city patient_x Organ  \\\n",
       "0          Pescara     adult   HCT   \n",
       "1  Reggio Calabria     adult   HCT   \n",
       "\n",
       "                                   center_name center_type   patient_y  \n",
       "0           PE - OSPEDALE CIVILE SANTO SPIRITO    HCT only  adult only  \n",
       "1  RC - OSPEDALE BIANCHI - MELACRINO - MORELLI     SOT+HCT  adult only  "
      ]
     },
     "execution_count": 13,
     "metadata": {},
     "output_type": "execute_result"
    }
   ],
   "source": [
    "# merging the hct_df with the hct_harmonized\n",
    "hct_merged = pd.merge(\n",
    "    hct_df,\n",
    "    hct_harmonized[['full program name', 'harmonized name','Type','patient']],\n",
    "    on='full program name',\n",
    "    how='left'\n",
    ").rename(columns={'harmonized name': 'center_name', 'Type': 'center_type'})\n",
    "\n",
    "#hct_merged = hct_merged.drop(columns=['full program name'])\n",
    "\n",
    "hct_merged.head(2)"
   ]
  },
  {
   "cell_type": "code",
   "execution_count": 14,
   "id": "1f9ff28d",
   "metadata": {},
   "outputs": [
    {
     "name": "stdout",
     "output_type": "stream",
     "text": [
      "<class 'pandas.core.frame.DataFrame'>\n",
      "RangeIndex: 56 entries, 0 to 55\n",
      "Data columns (total 12 columns):\n",
      " #   Column                        Non-Null Count  Dtype \n",
      "---  ------                        --------------  ----- \n",
      " 0   region                        56 non-null     object\n",
      " 1   full program name             56 non-null     object\n",
      " 2   allogeneic total              56 non-null     int64 \n",
      " 3   matched family donors         56 non-null     int64 \n",
      " 4   unrelated donors              56 non-null     int64 \n",
      " 5   haploidentical family donors  56 non-null     int64 \n",
      " 6   city                          56 non-null     object\n",
      " 7   patient_x                     56 non-null     object\n",
      " 8   Organ                         56 non-null     object\n",
      " 9   center_name                   56 non-null     object\n",
      " 10  center_type                   56 non-null     object\n",
      " 11  patient_y                     56 non-null     object\n",
      "dtypes: int64(4), object(8)\n",
      "memory usage: 5.4+ KB\n"
     ]
    }
   ],
   "source": [
    "hct_merged.info()"
   ]
  },
  {
   "cell_type": "code",
   "execution_count": 15,
   "id": "e94b0fe3",
   "metadata": {},
   "outputs": [
    {
     "name": "stdout",
     "output_type": "stream",
     "text": [
      "<class 'pandas.core.frame.DataFrame'>\n",
      "RangeIndex: 56 entries, 0 to 55\n",
      "Data columns (total 9 columns):\n",
      " #   Column       Non-Null Count  Dtype \n",
      "---  ------       --------------  ----- \n",
      " 0   region       56 non-null     object\n",
      " 1   city         56 non-null     object\n",
      " 2   center_name  56 non-null     object\n",
      " 3   center_type  56 non-null     object\n",
      " 4   patient      56 non-null     object\n",
      " 5   organ        56 non-null     object\n",
      " 6   subtype      56 non-null     object\n",
      " 7   number       56 non-null     int64 \n",
      " 8   year         56 non-null     int64 \n",
      "dtypes: int64(2), object(7)\n",
      "memory usage: 4.1+ KB\n"
     ]
    }
   ],
   "source": [
    "hct_new_cols = {\n",
    "    'allogeneic total': 'number',\n",
    "    'Organ': 'organ',\n",
    "    'patient_y': 'patient'\n",
    "    }\n",
    "hct_merged = hct_merged.rename(columns=hct_new_cols)\n",
    "\n",
    "hct_merged.drop(labels=['full program name', 'matched family donors','unrelated donors',\n",
    "                        'haploidentical family donors','patient_x'], axis=1, inplace=True)\n",
    "\n",
    "hct_merged['subtype'] = 'allo-HCT'\n",
    "hct_merged['year'] = 2023\n",
    "\n",
    "hct_merged = hct_merged[['region','city', 'center_name','center_type','patient','organ','subtype','number','year']]\n",
    "hct_merged.info()"
   ]
  },
  {
   "cell_type": "markdown",
   "id": "21c21c45",
   "metadata": {},
   "source": [
    "### 🧠 SOT Centers\n",
    "- Similarly, we merge `sot_df` with harmonized names from `sot_center_names_harmonized.xlsx`.\n",
    "\n",
    "- We map and clean the data by:\n",
    "\n",
    "    - Renaming columns,\n",
    "\n",
    "    - Standardizing the schema to match the HCT dataset,\n",
    "\n",
    "    - Adding classification via the `center_type` field (either `SOT only` or `SOT+HCT`),\n",
    "\n",
    "    - Ensuring all entries share the same structure for downstream merging.\n",
    "\n",
    "The objective is that both SOTs and HCTs datasets share the following common structure:\n",
    "\n",
    "```python\n",
    "region | city | center_name | center_type | patient | organ | subtype | number | year\n",
    "```"
   ]
  },
  {
   "cell_type": "code",
   "execution_count": 16,
   "id": "14149892",
   "metadata": {},
   "outputs": [
    {
     "data": {
      "text/html": [
       "<div>\n",
       "<style scoped>\n",
       "    .dataframe tbody tr th:only-of-type {\n",
       "        vertical-align: middle;\n",
       "    }\n",
       "\n",
       "    .dataframe tbody tr th {\n",
       "        vertical-align: top;\n",
       "    }\n",
       "\n",
       "    .dataframe thead th {\n",
       "        text-align: right;\n",
       "    }\n",
       "</style>\n",
       "<table border=\"1\" class=\"dataframe\">\n",
       "  <thead>\n",
       "    <tr style=\"text-align: right;\">\n",
       "      <th></th>\n",
       "      <th>Regione</th>\n",
       "      <th>Città_nome</th>\n",
       "      <th>Struttura trapianto</th>\n",
       "      <th>harmonized name</th>\n",
       "      <th>Type</th>\n",
       "      <th>patient</th>\n",
       "    </tr>\n",
       "  </thead>\n",
       "  <tbody>\n",
       "    <tr>\n",
       "      <th>0</th>\n",
       "      <td>Piemonte</td>\n",
       "      <td>Novara</td>\n",
       "      <td>NO - AOU MAGGIORE DELLA CARITA' - NOVARA</td>\n",
       "      <td>NO - AOU MAGGIORE DELLA CARITA' - NOVARA</td>\n",
       "      <td>SOT only</td>\n",
       "      <td>adult only</td>\n",
       "    </tr>\n",
       "    <tr>\n",
       "      <th>1</th>\n",
       "      <td>Piemonte</td>\n",
       "      <td>Torino</td>\n",
       "      <td>TO - AOU Città della Salute, PO S.G.Battista</td>\n",
       "      <td>TO - AOU Città della Salute, PO S.G.Battista</td>\n",
       "      <td>SOT+HCT</td>\n",
       "      <td>adult+pediatric</td>\n",
       "    </tr>\n",
       "  </tbody>\n",
       "</table>\n",
       "</div>"
      ],
      "text/plain": [
       "    Regione Città_nome                           Struttura trapianto  \\\n",
       "0  Piemonte     Novara      NO - AOU MAGGIORE DELLA CARITA' - NOVARA   \n",
       "1  Piemonte     Torino  TO - AOU Città della Salute, PO S.G.Battista   \n",
       "\n",
       "                                harmonized name      Type          patient  \n",
       "0      NO - AOU MAGGIORE DELLA CARITA' - NOVARA  SOT only       adult only  \n",
       "1  TO - AOU Città della Salute, PO S.G.Battista   SOT+HCT  adult+pediatric  "
      ]
     },
     "execution_count": 16,
     "metadata": {},
     "output_type": "execute_result"
    }
   ],
   "source": [
    "sot_harmonized = pd.read_excel(\"../data_cleaned/sot_center_names_harmonized.xlsx\")\n",
    "sot_harmonized.head(2)"
   ]
  },
  {
   "cell_type": "code",
   "execution_count": 17,
   "id": "7f1f47bf",
   "metadata": {},
   "outputs": [
    {
     "data": {
      "text/plain": [
       "Type\n",
       "SOT only     8\n",
       "SOT+HCT     33\n",
       "Name: harmonized name, dtype: int64"
      ]
     },
     "execution_count": 17,
     "metadata": {},
     "output_type": "execute_result"
    }
   ],
   "source": [
    "sot_harmonized.groupby('Type')['harmonized name'].nunique()"
   ]
  },
  {
   "cell_type": "code",
   "execution_count": 18,
   "id": "f0d83d53",
   "metadata": {},
   "outputs": [
    {
     "data": {
      "text/plain": [
       "(41, 56)"
      ]
     },
     "execution_count": 18,
     "metadata": {},
     "output_type": "execute_result"
    }
   ],
   "source": [
    "len(sot_harmonized), len(hct_harmonized)"
   ]
  },
  {
   "cell_type": "code",
   "execution_count": 19,
   "id": "3e8bcf10",
   "metadata": {},
   "outputs": [
    {
     "data": {
      "text/html": [
       "<div>\n",
       "<style scoped>\n",
       "    .dataframe tbody tr th:only-of-type {\n",
       "        vertical-align: middle;\n",
       "    }\n",
       "\n",
       "    .dataframe tbody tr th {\n",
       "        vertical-align: top;\n",
       "    }\n",
       "\n",
       "    .dataframe thead th {\n",
       "        text-align: right;\n",
       "    }\n",
       "</style>\n",
       "<table border=\"1\" class=\"dataframe\">\n",
       "  <thead>\n",
       "    <tr style=\"text-align: right;\">\n",
       "      <th></th>\n",
       "      <th>Struttura trapianto</th>\n",
       "      <th>Città</th>\n",
       "      <th>Organo</th>\n",
       "      <th>Sottotipo</th>\n",
       "      <th>Numero</th>\n",
       "      <th>Anno</th>\n",
       "      <th>Città_nome</th>\n",
       "      <th>Regione</th>\n",
       "    </tr>\n",
       "  </thead>\n",
       "  <tbody>\n",
       "    <tr>\n",
       "      <th>0</th>\n",
       "      <td>NO - AOU MAGGIORE DELLA CARITA' - NOVARA</td>\n",
       "      <td>NO</td>\n",
       "      <td>Rene</td>\n",
       "      <td>Rene</td>\n",
       "      <td>67</td>\n",
       "      <td>2010</td>\n",
       "      <td>Novara</td>\n",
       "      <td>Piemonte</td>\n",
       "    </tr>\n",
       "    <tr>\n",
       "      <th>1</th>\n",
       "      <td>TO - AOU Città della Salute, PO S.G.Battista</td>\n",
       "      <td>TO</td>\n",
       "      <td>Rene</td>\n",
       "      <td>Rene</td>\n",
       "      <td>5</td>\n",
       "      <td>2010</td>\n",
       "      <td>Torino</td>\n",
       "      <td>Piemonte</td>\n",
       "    </tr>\n",
       "  </tbody>\n",
       "</table>\n",
       "</div>"
      ],
      "text/plain": [
       "                            Struttura trapianto Città Organo Sottotipo  \\\n",
       "0      NO - AOU MAGGIORE DELLA CARITA' - NOVARA    NO   Rene      Rene   \n",
       "1  TO - AOU Città della Salute, PO S.G.Battista    TO   Rene      Rene   \n",
       "\n",
       "   Numero  Anno Città_nome   Regione  \n",
       "0      67  2010     Novara  Piemonte  \n",
       "1       5  2010     Torino  Piemonte  "
      ]
     },
     "execution_count": 19,
     "metadata": {},
     "output_type": "execute_result"
    }
   ],
   "source": [
    "sot_df.head(2)"
   ]
  },
  {
   "cell_type": "code",
   "execution_count": 20,
   "id": "276ea08c",
   "metadata": {},
   "outputs": [
    {
     "data": {
      "text/html": [
       "<div>\n",
       "<style scoped>\n",
       "    .dataframe tbody tr th:only-of-type {\n",
       "        vertical-align: middle;\n",
       "    }\n",
       "\n",
       "    .dataframe tbody tr th {\n",
       "        vertical-align: top;\n",
       "    }\n",
       "\n",
       "    .dataframe thead th {\n",
       "        text-align: right;\n",
       "    }\n",
       "</style>\n",
       "<table border=\"1\" class=\"dataframe\">\n",
       "  <thead>\n",
       "    <tr style=\"text-align: right;\">\n",
       "      <th></th>\n",
       "      <th>Regione</th>\n",
       "      <th>Città_nome</th>\n",
       "      <th>Struttura trapianto</th>\n",
       "      <th>harmonized name</th>\n",
       "      <th>Type</th>\n",
       "      <th>patient</th>\n",
       "    </tr>\n",
       "  </thead>\n",
       "  <tbody>\n",
       "    <tr>\n",
       "      <th>0</th>\n",
       "      <td>Piemonte</td>\n",
       "      <td>Novara</td>\n",
       "      <td>NO - AOU MAGGIORE DELLA CARITA' - NOVARA</td>\n",
       "      <td>NO - AOU MAGGIORE DELLA CARITA' - NOVARA</td>\n",
       "      <td>SOT only</td>\n",
       "      <td>adult only</td>\n",
       "    </tr>\n",
       "    <tr>\n",
       "      <th>1</th>\n",
       "      <td>Piemonte</td>\n",
       "      <td>Torino</td>\n",
       "      <td>TO - AOU Città della Salute, PO S.G.Battista</td>\n",
       "      <td>TO - AOU Città della Salute, PO S.G.Battista</td>\n",
       "      <td>SOT+HCT</td>\n",
       "      <td>adult+pediatric</td>\n",
       "    </tr>\n",
       "  </tbody>\n",
       "</table>\n",
       "</div>"
      ],
      "text/plain": [
       "    Regione Città_nome                           Struttura trapianto  \\\n",
       "0  Piemonte     Novara      NO - AOU MAGGIORE DELLA CARITA' - NOVARA   \n",
       "1  Piemonte     Torino  TO - AOU Città della Salute, PO S.G.Battista   \n",
       "\n",
       "                                harmonized name      Type          patient  \n",
       "0      NO - AOU MAGGIORE DELLA CARITA' - NOVARA  SOT only       adult only  \n",
       "1  TO - AOU Città della Salute, PO S.G.Battista   SOT+HCT  adult+pediatric  "
      ]
     },
     "execution_count": 20,
     "metadata": {},
     "output_type": "execute_result"
    }
   ],
   "source": [
    "sot_harmonized.head(2)"
   ]
  },
  {
   "cell_type": "code",
   "execution_count": 21,
   "id": "9f1decac",
   "metadata": {},
   "outputs": [
    {
     "data": {
      "text/html": [
       "<div>\n",
       "<style scoped>\n",
       "    .dataframe tbody tr th:only-of-type {\n",
       "        vertical-align: middle;\n",
       "    }\n",
       "\n",
       "    .dataframe tbody tr th {\n",
       "        vertical-align: top;\n",
       "    }\n",
       "\n",
       "    .dataframe thead th {\n",
       "        text-align: right;\n",
       "    }\n",
       "</style>\n",
       "<table border=\"1\" class=\"dataframe\">\n",
       "  <thead>\n",
       "    <tr style=\"text-align: right;\">\n",
       "      <th></th>\n",
       "      <th>Struttura trapianto</th>\n",
       "      <th>Città</th>\n",
       "      <th>Organo</th>\n",
       "      <th>Sottotipo</th>\n",
       "      <th>Numero</th>\n",
       "      <th>Anno</th>\n",
       "      <th>Città_nome</th>\n",
       "      <th>Regione</th>\n",
       "      <th>center_name</th>\n",
       "      <th>center_type</th>\n",
       "      <th>patient</th>\n",
       "    </tr>\n",
       "  </thead>\n",
       "  <tbody>\n",
       "    <tr>\n",
       "      <th>0</th>\n",
       "      <td>NO - AOU MAGGIORE DELLA CARITA' - NOVARA</td>\n",
       "      <td>NO</td>\n",
       "      <td>Rene</td>\n",
       "      <td>Rene</td>\n",
       "      <td>67</td>\n",
       "      <td>2010</td>\n",
       "      <td>Novara</td>\n",
       "      <td>Piemonte</td>\n",
       "      <td>NO - AOU MAGGIORE DELLA CARITA' - NOVARA</td>\n",
       "      <td>SOT only</td>\n",
       "      <td>adult only</td>\n",
       "    </tr>\n",
       "    <tr>\n",
       "      <th>1</th>\n",
       "      <td>TO - AOU Città della Salute, PO S.G.Battista</td>\n",
       "      <td>TO</td>\n",
       "      <td>Rene</td>\n",
       "      <td>Rene</td>\n",
       "      <td>5</td>\n",
       "      <td>2010</td>\n",
       "      <td>Torino</td>\n",
       "      <td>Piemonte</td>\n",
       "      <td>TO - AOU Città della Salute, PO S.G.Battista</td>\n",
       "      <td>SOT+HCT</td>\n",
       "      <td>adult+pediatric</td>\n",
       "    </tr>\n",
       "  </tbody>\n",
       "</table>\n",
       "</div>"
      ],
      "text/plain": [
       "                            Struttura trapianto Città Organo Sottotipo  \\\n",
       "0      NO - AOU MAGGIORE DELLA CARITA' - NOVARA    NO   Rene      Rene   \n",
       "1  TO - AOU Città della Salute, PO S.G.Battista    TO   Rene      Rene   \n",
       "\n",
       "   Numero  Anno Città_nome   Regione  \\\n",
       "0      67  2010     Novara  Piemonte   \n",
       "1       5  2010     Torino  Piemonte   \n",
       "\n",
       "                                    center_name center_type          patient  \n",
       "0      NO - AOU MAGGIORE DELLA CARITA' - NOVARA    SOT only       adult only  \n",
       "1  TO - AOU Città della Salute, PO S.G.Battista     SOT+HCT  adult+pediatric  "
      ]
     },
     "execution_count": 21,
     "metadata": {},
     "output_type": "execute_result"
    }
   ],
   "source": [
    "# merging the sot_df with the sot_harmonized\n",
    "sot_merged = pd.merge(\n",
    "    sot_df,\n",
    "    sot_harmonized[['Struttura trapianto', 'harmonized name','Type','patient']],\n",
    "    on='Struttura trapianto',\n",
    "    how='left'\n",
    ").rename(columns={'harmonized name': 'center_name', 'Type': 'center_type'})\n",
    "\n",
    "#sot_merged = sot_merged.drop(columns=['Struttura trapianto'])\n",
    "\n",
    "sot_merged.head(2)"
   ]
  },
  {
   "cell_type": "code",
   "execution_count": 22,
   "id": "d8e90d8e",
   "metadata": {},
   "outputs": [
    {
     "name": "stdout",
     "output_type": "stream",
     "text": [
      "<class 'pandas.core.frame.DataFrame'>\n",
      "RangeIndex: 6794 entries, 0 to 6793\n",
      "Data columns (total 11 columns):\n",
      " #   Column               Non-Null Count  Dtype \n",
      "---  ------               --------------  ----- \n",
      " 0   Struttura trapianto  6794 non-null   object\n",
      " 1   Città                6592 non-null   object\n",
      " 2   Organo               6794 non-null   object\n",
      " 3   Sottotipo            6794 non-null   object\n",
      " 4   Numero               6794 non-null   int64 \n",
      " 5   Anno                 6794 non-null   int64 \n",
      " 6   Città_nome           6794 non-null   object\n",
      " 7   Regione              6794 non-null   object\n",
      " 8   center_name          6794 non-null   object\n",
      " 9   center_type          6794 non-null   object\n",
      " 10  patient              6794 non-null   object\n",
      "dtypes: int64(2), object(9)\n",
      "memory usage: 584.0+ KB\n"
     ]
    }
   ],
   "source": [
    "sot_merged.info()"
   ]
  },
  {
   "cell_type": "code",
   "execution_count": 23,
   "id": "b8642e78",
   "metadata": {},
   "outputs": [
    {
     "name": "stdout",
     "output_type": "stream",
     "text": [
      "<class 'pandas.core.frame.DataFrame'>\n",
      "RangeIndex: 6794 entries, 0 to 6793\n",
      "Data columns (total 9 columns):\n",
      " #   Column       Non-Null Count  Dtype \n",
      "---  ------       --------------  ----- \n",
      " 0   region       6794 non-null   object\n",
      " 1   city         6794 non-null   object\n",
      " 2   center_name  6794 non-null   object\n",
      " 3   center_type  6794 non-null   object\n",
      " 4   patient      6794 non-null   object\n",
      " 5   organ        6794 non-null   object\n",
      " 6   subtype      6794 non-null   object\n",
      " 7   number       6794 non-null   int64 \n",
      " 8   year         6794 non-null   int64 \n",
      "dtypes: int64(2), object(7)\n",
      "memory usage: 477.8+ KB\n"
     ]
    }
   ],
   "source": [
    "sot_new_cols = {\n",
    "    'Regione': 'region',\n",
    "    'Città_nome': 'city',\n",
    "    'Organo': 'organ',\n",
    "    'Sottotipo': 'subtype',\n",
    "    'Numero': 'number',\n",
    "    'Anno': 'year'\n",
    "}\n",
    "\n",
    "sot_merged = sot_merged.rename(columns=sot_new_cols)\n",
    "sot_merged.drop(labels=['Struttura trapianto', 'Città'], axis=1, inplace=True)\n",
    "sot_merged = sot_merged[['region','city', 'center_name','center_type','patient','organ','subtype','number','year']]\n",
    "sot_merged.info()"
   ]
  },
  {
   "cell_type": "markdown",
   "id": "488e0cff",
   "metadata": {},
   "source": [
    "### 🧷 Final Integration of Transplant Data\n",
    "We now concatenate the standardized Solid Organ Transplant (SOT) and Hematopoietic Cell Transplant (HCT) datasets into a single, unified DataFrame:"
   ]
  },
  {
   "cell_type": "code",
   "execution_count": 24,
   "id": "4c1d0a21",
   "metadata": {},
   "outputs": [
    {
     "name": "stdout",
     "output_type": "stream",
     "text": [
      "<class 'pandas.core.frame.DataFrame'>\n",
      "Index: 6850 entries, 0 to 55\n",
      "Data columns (total 9 columns):\n",
      " #   Column       Non-Null Count  Dtype \n",
      "---  ------       --------------  ----- \n",
      " 0   region       6850 non-null   object\n",
      " 1   city         6850 non-null   object\n",
      " 2   center_name  6850 non-null   object\n",
      " 3   center_type  6850 non-null   object\n",
      " 4   patient      6850 non-null   object\n",
      " 5   organ        6850 non-null   object\n",
      " 6   subtype      6850 non-null   object\n",
      " 7   number       6850 non-null   int64 \n",
      " 8   year         6850 non-null   int64 \n",
      "dtypes: int64(2), object(7)\n",
      "memory usage: 535.2+ KB\n"
     ]
    }
   ],
   "source": [
    "final_df = pd.concat([sot_merged,hct_merged])\n",
    "final_df.info()"
   ]
  },
  {
   "cell_type": "markdown",
   "id": "3bf2d7cc",
   "metadata": {},
   "source": [
    "### ✅ Data Integrity Checks\n",
    "To ensure consistency:\n",
    "\n",
    "- We verify the number of unique centers by `center_type` (i.e., `SOT only`, `HCT only`, `SOT+HCT`).\n",
    "\n",
    "- We resolve any encoding artifacts or character inconsistencies, e.g., replacing non-breaking spaces in names."
   ]
  },
  {
   "cell_type": "code",
   "execution_count": 25,
   "id": "3a98a9ac",
   "metadata": {},
   "outputs": [
    {
     "data": {
      "text/html": [
       "<div>\n",
       "<style scoped>\n",
       "    .dataframe tbody tr th:only-of-type {\n",
       "        vertical-align: middle;\n",
       "    }\n",
       "\n",
       "    .dataframe tbody tr th {\n",
       "        vertical-align: top;\n",
       "    }\n",
       "\n",
       "    .dataframe thead th {\n",
       "        text-align: right;\n",
       "    }\n",
       "</style>\n",
       "<table border=\"1\" class=\"dataframe\">\n",
       "  <thead>\n",
       "    <tr style=\"text-align: right;\">\n",
       "      <th></th>\n",
       "      <th>center_type</th>\n",
       "      <th>center_name</th>\n",
       "    </tr>\n",
       "  </thead>\n",
       "  <tbody>\n",
       "    <tr>\n",
       "      <th>0</th>\n",
       "      <td>HCT only</td>\n",
       "      <td>23</td>\n",
       "    </tr>\n",
       "    <tr>\n",
       "      <th>1</th>\n",
       "      <td>SOT only</td>\n",
       "      <td>8</td>\n",
       "    </tr>\n",
       "    <tr>\n",
       "      <th>2</th>\n",
       "      <td>SOT+HCT</td>\n",
       "      <td>34</td>\n",
       "    </tr>\n",
       "  </tbody>\n",
       "</table>\n",
       "</div>"
      ],
      "text/plain": [
       "  center_type  center_name\n",
       "0    HCT only           23\n",
       "1    SOT only            8\n",
       "2     SOT+HCT           34"
      ]
     },
     "execution_count": 25,
     "metadata": {},
     "output_type": "execute_result"
    }
   ],
   "source": [
    "# sanity check of the sot_merged and hct_merged concatenation\n",
    "final_df.groupby(['center_type'],as_index=False)['center_name'].nunique()"
   ]
  },
  {
   "cell_type": "code",
   "execution_count": 26,
   "id": "3e72dbdc",
   "metadata": {},
   "outputs": [
    {
     "data": {
      "text/html": [
       "<div>\n",
       "<style scoped>\n",
       "    .dataframe tbody tr th:only-of-type {\n",
       "        vertical-align: middle;\n",
       "    }\n",
       "\n",
       "    .dataframe tbody tr th {\n",
       "        vertical-align: top;\n",
       "    }\n",
       "\n",
       "    .dataframe thead th {\n",
       "        text-align: right;\n",
       "    }\n",
       "</style>\n",
       "<table border=\"1\" class=\"dataframe\">\n",
       "  <thead>\n",
       "    <tr style=\"text-align: right;\">\n",
       "      <th></th>\n",
       "      <th>patient</th>\n",
       "      <th>center_name</th>\n",
       "    </tr>\n",
       "  </thead>\n",
       "  <tbody>\n",
       "    <tr>\n",
       "      <th>0</th>\n",
       "      <td>adult only</td>\n",
       "      <td>46</td>\n",
       "    </tr>\n",
       "    <tr>\n",
       "      <th>1</th>\n",
       "      <td>adult+pediatric</td>\n",
       "      <td>14</td>\n",
       "    </tr>\n",
       "    <tr>\n",
       "      <th>2</th>\n",
       "      <td>pediatric only</td>\n",
       "      <td>5</td>\n",
       "    </tr>\n",
       "  </tbody>\n",
       "</table>\n",
       "</div>"
      ],
      "text/plain": [
       "           patient  center_name\n",
       "0       adult only           46\n",
       "1  adult+pediatric           14\n",
       "2   pediatric only            5"
      ]
     },
     "execution_count": 26,
     "metadata": {},
     "output_type": "execute_result"
    }
   ],
   "source": [
    "final_df.groupby(['patient'],as_index=False)['center_name'].nunique()"
   ]
  },
  {
   "cell_type": "code",
   "execution_count": 27,
   "id": "b9d9f01a",
   "metadata": {},
   "outputs": [],
   "source": [
    "final_df['center_name'] =final_df['center_name'].str.replace('TO - AOU Città\\xa0 della Salute, PO S.G.Battista',\n",
    "                                                                 'TO - AOU Città della Salute, PO S.G.Battista',\n",
    "                                                                 regex=True)"
   ]
  },
  {
   "cell_type": "code",
   "execution_count": 28,
   "id": "3c247617",
   "metadata": {},
   "outputs": [
    {
     "data": {
      "text/html": [
       "<div>\n",
       "<style scoped>\n",
       "    .dataframe tbody tr th:only-of-type {\n",
       "        vertical-align: middle;\n",
       "    }\n",
       "\n",
       "    .dataframe tbody tr th {\n",
       "        vertical-align: top;\n",
       "    }\n",
       "\n",
       "    .dataframe thead th {\n",
       "        text-align: right;\n",
       "    }\n",
       "</style>\n",
       "<table border=\"1\" class=\"dataframe\">\n",
       "  <thead>\n",
       "    <tr style=\"text-align: right;\">\n",
       "      <th></th>\n",
       "      <th>center_type</th>\n",
       "      <th>center_name</th>\n",
       "    </tr>\n",
       "  </thead>\n",
       "  <tbody>\n",
       "    <tr>\n",
       "      <th>0</th>\n",
       "      <td>HCT only</td>\n",
       "      <td>23</td>\n",
       "    </tr>\n",
       "    <tr>\n",
       "      <th>1</th>\n",
       "      <td>SOT only</td>\n",
       "      <td>8</td>\n",
       "    </tr>\n",
       "    <tr>\n",
       "      <th>2</th>\n",
       "      <td>SOT+HCT</td>\n",
       "      <td>33</td>\n",
       "    </tr>\n",
       "  </tbody>\n",
       "</table>\n",
       "</div>"
      ],
      "text/plain": [
       "  center_type  center_name\n",
       "0    HCT only           23\n",
       "1    SOT only            8\n",
       "2     SOT+HCT           33"
      ]
     },
     "execution_count": 28,
     "metadata": {},
     "output_type": "execute_result"
    }
   ],
   "source": [
    "# sanity check of the sot_merged and hct_merged concatenation\n",
    "final_df.groupby(['center_type'],as_index=False)['center_name'].nunique()"
   ]
  },
  {
   "cell_type": "code",
   "execution_count": 29,
   "id": "a8f0f251",
   "metadata": {},
   "outputs": [
    {
     "data": {
      "text/html": [
       "<div>\n",
       "<style scoped>\n",
       "    .dataframe tbody tr th:only-of-type {\n",
       "        vertical-align: middle;\n",
       "    }\n",
       "\n",
       "    .dataframe tbody tr th {\n",
       "        vertical-align: top;\n",
       "    }\n",
       "\n",
       "    .dataframe thead th {\n",
       "        text-align: right;\n",
       "    }\n",
       "</style>\n",
       "<table border=\"1\" class=\"dataframe\">\n",
       "  <thead>\n",
       "    <tr style=\"text-align: right;\">\n",
       "      <th></th>\n",
       "      <th>patient</th>\n",
       "      <th>center_name</th>\n",
       "    </tr>\n",
       "  </thead>\n",
       "  <tbody>\n",
       "    <tr>\n",
       "      <th>0</th>\n",
       "      <td>adult only</td>\n",
       "      <td>46</td>\n",
       "    </tr>\n",
       "    <tr>\n",
       "      <th>1</th>\n",
       "      <td>adult+pediatric</td>\n",
       "      <td>13</td>\n",
       "    </tr>\n",
       "    <tr>\n",
       "      <th>2</th>\n",
       "      <td>pediatric only</td>\n",
       "      <td>5</td>\n",
       "    </tr>\n",
       "  </tbody>\n",
       "</table>\n",
       "</div>"
      ],
      "text/plain": [
       "           patient  center_name\n",
       "0       adult only           46\n",
       "1  adult+pediatric           13\n",
       "2   pediatric only            5"
      ]
     },
     "execution_count": 29,
     "metadata": {},
     "output_type": "execute_result"
    }
   ],
   "source": [
    "final_df.groupby(['patient'],as_index=False)['center_name'].nunique()"
   ]
  },
  {
   "cell_type": "markdown",
   "id": "e0ea54f0",
   "metadata": {},
   "source": [
    "### 📊 Summary Stats\n",
    "- **Total transplants (SOT only)**: `final_df[final_df['organ'] != 'HCT']['number'].sum()`\n",
    "\n",
    "- **Total transplants (HCT only)**: `final_df[final_df['organ'] == 'HCT']['number'].sum()`\n",
    "\n",
    "This `final_df` is now ready for analysis, aggregations, and visualization across centers, organ types, subtypes, and years."
   ]
  },
  {
   "cell_type": "code",
   "execution_count": 30,
   "id": "73a51b84",
   "metadata": {},
   "outputs": [
    {
     "data": {
      "text/plain": [
       "50807"
      ]
     },
     "execution_count": 30,
     "metadata": {},
     "output_type": "execute_result"
    }
   ],
   "source": [
    "final_df[final_df['organ'] != 'HCT']['number'].sum()"
   ]
  },
  {
   "cell_type": "code",
   "execution_count": 31,
   "id": "7f3ded13",
   "metadata": {},
   "outputs": [
    {
     "data": {
      "text/plain": [
       "1991"
      ]
     },
     "execution_count": 31,
     "metadata": {},
     "output_type": "execute_result"
    }
   ],
   "source": [
    "final_df[final_df['organ'] == 'HCT']['number'].sum()"
   ]
  },
  {
   "cell_type": "markdown",
   "id": "905dd6d3",
   "metadata": {},
   "source": [
    "#### 💾 Final Export for Data Visualization\n",
    "We save the unified and cleaned dataset (`final_df`) in both CSV and Excel formats. The CSV file is optimized for integration with visualization tools such as **Tableau Public**, **Power BI**, or **Google Looker Studio**."
   ]
  },
  {
   "cell_type": "code",
   "execution_count": 32,
   "id": "74f037ca",
   "metadata": {},
   "outputs": [],
   "source": [
    "# Export to CSV\n",
    "final_df.to_csv(\"../data_final_for_dataviz/transplants_italy_clean.csv\", index=False)\n",
    "\n",
    "# Optional: export to Excel for additional review\n",
    "final_df.to_excel(\"../data_final_for_dataviz/transplants_italy_clean.xlsx\", index=False)"
   ]
  },
  {
   "cell_type": "code",
   "execution_count": 33,
   "id": "0d55a663",
   "metadata": {},
   "outputs": [
    {
     "name": "stdout",
     "output_type": "stream",
     "text": [
      "--- DataFrame Content ---\n",
      "  Italian_Term English_Organ_Name\n",
      "0         Rene             Kidney\n",
      "1       Fegato              Liver\n",
      "2        Cuore              Heart\n",
      "3      Polmone               Lung\n",
      "4     Pancreas           Pancreas\n",
      "5    Intestino          Intestine\n",
      "6          HCT                HCT\n",
      "\n",
      "\n",
      "DataFrame successfully saved to ../data_final_for_dataviz/organ_translations.csv\n"
     ]
    }
   ],
   "source": [
    "organ_map = {\n",
    "    'Rene': 'Kidney',\n",
    "    'Fegato': 'Liver',\n",
    "    'Cuore': 'Heart',\n",
    "    'Polmone': 'Lung',\n",
    "    'Pancreas': 'Pancreas',\n",
    "    'Intestino': 'Intestine',\n",
    "    'HCT': 'HCT'\n",
    "}\n",
    "\n",
    "# 1. Convert the dictionary to a Pandas DataFrame\n",
    "# We'll create a DataFrame from the dictionary items.\n",
    "# The keys will become one column, and the values will become another.\n",
    "# We'll explicitly name these columns.\n",
    "df = pd.DataFrame(list(organ_map.items()), columns=['Italian_Term', 'English_Organ_Name'])\n",
    "\n",
    "# Display the DataFrame to see its structure\n",
    "print(\"--- DataFrame Content ---\")\n",
    "print(df)\n",
    "print(\"\\n\")\n",
    "\n",
    "# 2. Save the DataFrame as a CSV file\n",
    "# You can specify the file path and name.\n",
    "# index=False prevents Pandas from writing the DataFrame index as a column in the CSV.\n",
    "csv_file_name = '../data_final_for_dataviz/organ_translations.csv'\n",
    "df.to_csv(csv_file_name, index=False)\n",
    "\n",
    "print(f\"DataFrame successfully saved to {csv_file_name}\")"
   ]
  },
  {
   "cell_type": "code",
   "execution_count": 34,
   "id": "a0f1b9f5",
   "metadata": {},
   "outputs": [
    {
     "name": "stdout",
     "output_type": "stream",
     "text": [
      "--- DataFrame Content ---\n",
      "                          Italian_Term              English_Organ_Name\n",
      "0                                 Rene                          Kidney\n",
      "1                          Rene doppio                   Double Kidney\n",
      "2                        Rene - fegato                  Kidney - Liver\n",
      "3                      Rene - pancreas               Kidney - Pancreas\n",
      "4             Rene - fegato - pancreas       Kidney - Liver - Pancreas\n",
      "5                         Rene - cuore                  Kidney - Heart\n",
      "6                               Fegato                           Liver\n",
      "7                    Fegato - pancreas                Liver - Pancreas\n",
      "8        Fegato - pancreas - intestino    Liver - Pancreas - Intestine\n",
      "9                       Cuore - fegato                   Heart - Liver\n",
      "10                               Cuore                           Heart\n",
      "11              Cuore - polmone doppio             Heart - Double Lung\n",
      "12                             Polmone                            Lung\n",
      "13                      Polmone doppio                     Double Lung\n",
      "14                            Pancreas                        Pancreas\n",
      "15                Pancreas - intestino            Pancreas - Intestine\n",
      "16                           Intestino                       Intestine\n",
      "17  Fegato - pancreas - polmone doppio  Liver - Pancreas - Double Lung\n",
      "18             Fegato - polmone doppio             Liver - Double Lung\n",
      "19                Rene doppio - fegato           Double Kidney - Liver\n",
      "20                      Rene - polmone                   Kidney - Lung\n",
      "21               Rene - polmone doppio            Kidney - Double Lung\n",
      "22              Doppio rene - pancreas        Double Kidney - Pancreas\n",
      "23                            allo-HCT                        Allo-HCT\n",
      "\n",
      "\n",
      "DataFrame successfully saved to ../data_final_for_dataviz/organ_subtype_translations.csv\n"
     ]
    }
   ],
   "source": [
    "organ_map_extended = {\n",
    "    'Rene': 'Kidney',\n",
    "    'Rene doppio': 'Double Kidney',\n",
    "    'Rene - fegato': 'Kidney - Liver',\n",
    "    'Rene - pancreas': 'Kidney - Pancreas',\n",
    "    'Rene - fegato - pancreas': 'Kidney - Liver - Pancreas',\n",
    "    'Rene - cuore': 'Kidney - Heart',\n",
    "    'Fegato': 'Liver',\n",
    "    'Fegato - pancreas': 'Liver - Pancreas',\n",
    "    'Fegato - pancreas - intestino': 'Liver - Pancreas - Intestine',\n",
    "    'Cuore - fegato': 'Heart - Liver',\n",
    "    'Cuore': 'Heart',\n",
    "    'Cuore - polmone doppio': 'Heart - Double Lung',\n",
    "    'Polmone': 'Lung',\n",
    "    'Polmone doppio': 'Double Lung',\n",
    "    'Pancreas': 'Pancreas',\n",
    "    'Pancreas - intestino': 'Pancreas - Intestine',\n",
    "    'Intestino': 'Intestine',\n",
    "    'Fegato - pancreas - polmone doppio': 'Liver - Pancreas - Double Lung',\n",
    "    'Fegato - polmone doppio': 'Liver - Double Lung',\n",
    "    'Rene doppio - fegato': 'Double Kidney - Liver',\n",
    "    'Rene - polmone': 'Kidney - Lung',\n",
    "    'Rene - polmone doppio': 'Kidney - Double Lung',\n",
    "    'Doppio rene - pancreas': 'Double Kidney - Pancreas',\n",
    "    'allo-HCT': 'Allo-HCT'\n",
    "}\n",
    "\n",
    "# 1. Convert the dictionary to a Pandas DataFrame\n",
    "# We'll create a DataFrame from the dictionary items.\n",
    "# The keys will become one column, and the values will become another.\n",
    "# We'll explicitly name these columns.\n",
    "df = pd.DataFrame(list(organ_map_extended.items()), columns=['Italian_Term', 'English_Organ_Name'])\n",
    "\n",
    "# Display the DataFrame to see its structure\n",
    "print(\"--- DataFrame Content ---\")\n",
    "print(df)\n",
    "print(\"\\n\")\n",
    "\n",
    "# 2. Save the DataFrame as a CSV file\n",
    "# You can specify the file path and name.\n",
    "# index=False prevents Pandas from writing the DataFrame index as a column in the CSV.\n",
    "csv_file_name = '../data_final_for_dataviz/organ_subtype_translations.csv'\n",
    "df.to_csv(csv_file_name, index=False)\n",
    "\n",
    "print(f\"DataFrame successfully saved to {csv_file_name}\")\n"
   ]
  }
 ],
 "metadata": {
  "kernelspec": {
   "display_name": "base",
   "language": "python",
   "name": "python3"
  },
  "language_info": {
   "codemirror_mode": {
    "name": "ipython",
    "version": 3
   },
   "file_extension": ".py",
   "mimetype": "text/x-python",
   "name": "python",
   "nbconvert_exporter": "python",
   "pygments_lexer": "ipython3",
   "version": "3.12.7"
  }
 },
 "nbformat": 4,
 "nbformat_minor": 5
}
